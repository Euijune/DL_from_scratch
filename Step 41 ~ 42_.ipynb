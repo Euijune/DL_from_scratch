{
  "nbformat": 4,
  "nbformat_minor": 0,
  "metadata": {
    "colab": {
      "name": "Step 41 ~ 42 .ipynb",
      "provenance": []
    },
    "kernelspec": {
      "name": "python3",
      "display_name": "Python 3"
    },
    "language_info": {
      "name": "python"
    }
  },
  "cells": [
    {
      "cell_type": "code",
      "execution_count": 1,
      "metadata": {
        "colab": {
          "base_uri": "https://localhost:8080/"
        },
        "id": "UW9f-Mv_xQF7",
        "outputId": "3d35dc3c-a2e0-4c31-91a6-5b424195f2b0"
      },
      "outputs": [
        {
          "output_type": "stream",
          "name": "stdout",
          "text": [
            "Drive already mounted at /content/drive; to attempt to forcibly remount, call drive.mount(\"/content/drive\", force_remount=True).\n",
            "/content/drive/Shareddrives/Data/밑바닥부터 시작하는 딥러닝\n"
          ]
        }
      ],
      "source": [
        "from graphviz import Source\n",
        "from IPython.display import Image\n",
        "from google.colab import drive\n",
        "\n",
        "drive.mount('/content/drive')\n",
        "%cd /content/drive/Shareddrives/Data/밑바닥부터 시작하는 딥러닝"
      ]
    },
    {
      "cell_type": "markdown",
      "source": [
        "# Step 41"
      ],
      "metadata": {
        "id": "_euqhcfOz2kI"
      }
    },
    {
      "cell_type": "code",
      "source": [
        "from dezero import Variable as v\n",
        "import dezero.functions as F\n",
        "import numpy as np\n",
        "\n",
        "x = v(np.random.randn(2,3))\n",
        "W = v(np.random.randn(3,4))\n",
        "y = F.matmul(x, W)\n",
        "y.backward()\n",
        "\n",
        "print(x.grad.shape)\n",
        "print(W.grad.shape)"
      ],
      "metadata": {
        "colab": {
          "base_uri": "https://localhost:8080/"
        },
        "id": "sMfhPOFBz36H",
        "outputId": "e2fe1333-0f5f-4856-f628-1a46b726927b"
      },
      "execution_count": 2,
      "outputs": [
        {
          "output_type": "stream",
          "name": "stdout",
          "text": [
            "(2, 3)\n",
            "(3, 4)\n"
          ]
        }
      ]
    },
    {
      "cell_type": "markdown",
      "source": [
        "# Step 42 - Linear Regression"
      ],
      "metadata": {
        "id": "wr13lzjfDl28"
      }
    },
    {
      "cell_type": "markdown",
      "source": [
        "### make toy dataset"
      ],
      "metadata": {
        "id": "HdYTgHvTEbBk"
      }
    },
    {
      "cell_type": "code",
      "source": [
        "import numpy as np\n",
        "import matplotlib.pyplot as plt\n",
        "\n",
        "np.random.seed(0)   # 시드값 고정\n",
        "x = np.random.rand(100, 1)\n",
        "y = 5 + 2*x + np.random.rand(100, 1)    # y에 무작위 noise 추가\n",
        "\n",
        "plt.scatter(x, y, s=15)\n",
        "plt.show()"
      ],
      "metadata": {
        "colab": {
          "base_uri": "https://localhost:8080/",
          "height": 265
        },
        "id": "MKLMRXAEDoqD",
        "outputId": "9c9a4d5b-167b-4113-a60b-b038adc06f31"
      },
      "execution_count": 11,
      "outputs": [
        {
          "output_type": "display_data",
          "data": {
            "text/plain": [
              "<Figure size 432x288 with 1 Axes>"
            ],
            "image/png": "[encoded data removed]"
          },
          "metadata": {
            "needs_background": "light"
          }
        }
      ]
    },
    {
      "cell_type": "markdown",
      "source": [
        "### implement linear regression"
      ],
      "metadata": {
        "id": "ahISAypgEdsR"
      }
    },
    {
      "cell_type": "code",
      "source": [
        "import numpy as np\n",
        "from dezero import Variable as v\n",
        "import dezero.functions as F\n",
        "\n",
        "x, y = v(x), v(y)   # 생략 가능 (dezero는 ndarray 인스턴스도 내부에서 Variable 인스턴스로 변환함)\n",
        "\n",
        "W = v(np.zeros((1,1)))\n",
        "b = v(np.zeros(1))\n",
        "\n",
        "def predict(x):\n",
        "    y = F.matmul(x, W) + b\n",
        "    return y\n",
        "\n",
        "def mean_squared_error(x0, x1): # MSE\n",
        "    diff = x0 - x1\n",
        "    return F.sum(diff ** 2) / len(diff)\n"
      ],
      "metadata": {
        "id": "KsTs-CITEdVh"
      },
      "execution_count": 12,
      "outputs": []
    },
    {
      "cell_type": "code",
      "source": [
        "lr = 0.1\n",
        "iters = 100\n",
        "\n",
        "for i in range(1, iters+1):\n",
        "    y_pred = predict(x)\n",
        "    loss = mean_squared_error(y, y_pred)\n",
        "\n",
        "    W.cleargrad()\n",
        "    b.cleargrad()\n",
        "    loss.backward()\n",
        "\n",
        "    W.data -= lr * W.grad.data\n",
        "    b.data -= lr * b.grad.data\n",
        "    if i % 10 == 0:\n",
        "        print(W, b, loss)"
      ],
      "metadata": {
        "colab": {
          "base_uri": "https://localhost:8080/"
        },
        "id": "6alKAKa-FVht",
        "outputId": "c652692e-088c-40be-a50f-fd6acc7daabb"
      },
      "execution_count": 13,
      "outputs": [
        {
          "output_type": "stream",
          "name": "stdout",
          "text": [
            "variable([[2.39573972]]) variable([4.9467725]) variable(0.3585915308319281)\n",
            "variable([[2.46228843]]) variable([5.26973075]) variable(0.10181280604960243)\n",
            "variable([[2.40310116]]) variable([5.32037549]) variable(0.09512298485383605)\n",
            "variable([[2.34459602]]) variable([5.35121993]) variable(0.09065081640275062)\n",
            "variable([[2.29308646]]) variable([5.37739285]) variable(0.08723906096725743)\n",
            "variable([[2.2480595]]) variable([5.40021536]) variable(0.08463466440508784)\n",
            "variable([[2.20871786]]) variable([5.42015291]) variable(0.08264656764154595)\n",
            "variable([[2.17434477]]) variable([5.43757232]) variable(0.0811289305635685)\n",
            "variable([[2.1443128]]) variable([5.45279175]) variable(0.07997042442704135)\n",
            "variable([[2.11807369]]) variable([5.46608905]) variable(0.07908606512411756)\n"
          ]
        }
      ]
    },
    {
      "cell_type": "code",
      "source": [
        "X, Y = x.data, y.data\n",
        "\n",
        "plt.plot(X, W.data*X+b.data, c='r', linewidth=1)\n",
        "plt.scatter(X, Y, s=15)\n",
        "plt.show()"
      ],
      "metadata": {
        "colab": {
          "base_uri": "https://localhost:8080/",
          "height": 265
        },
        "id": "BbwWcYsxb-RR",
        "outputId": "b2eafd58-dc37-4c2b-a140-ac45762044d4"
      },
      "execution_count": 14,
      "outputs": [
        {
          "output_type": "display_data",
          "data": {
            "text/plain": [
              "<Figure size 432x288 with 1 Axes>"
            ],
            "image/png": "[encoded data removed]"
          },
          "metadata": {
            "needs_background": "light"
          }
        }
      ]
    },
    {
      "cell_type": "markdown",
      "source": [
        "### **dezero's MSE(more memory efficiency)**"
      ],
      "metadata": {
        "id": "CCx9R4rdedzi"
      }
    },
    {
      "cell_type": "code",
      "source": [
        "np.random.seed(0)\n",
        "x = np.random.rand(100, 1)\n",
        "y = 5 + 2*x + np.random.rand(100, 1)    # y에 무작위 noise 추가\n",
        "x, y = v(x), v(y) \n",
        "\n",
        "W = v(np.zeros((1,1)))\n",
        "b = v(np.zeros(1))\n",
        "\n",
        "lr = 0.1\n",
        "iters = 100\n",
        "\n",
        "for i in range(1, iters+1):\n",
        "    y_pred = predict(x)\n",
        "    loss = F.mean_squared_error(y, y_pred)  # changed\n",
        "\n",
        "    W.cleargrad()\n",
        "    b.cleargrad()\n",
        "    loss.backward()\n",
        "\n",
        "    W.data -= lr * W.grad.data\n",
        "    b.data -= lr * b.grad.data\n",
        "    if i % 10 == 0:\n",
        "        print(W, b, loss)"
      ],
      "metadata": {
        "colab": {
          "base_uri": "https://localhost:8080/"
        },
        "id": "SDYoR3SaenU3",
        "outputId": "8b9bd35c-3193-4ed1-8e93-4807ff80ff6a"
      },
      "execution_count": 15,
      "outputs": [
        {
          "output_type": "stream",
          "name": "stdout",
          "text": [
            "variable([[2.39573972]]) variable([4.9467725]) variable(0.3585915308319281)\n",
            "variable([[2.46228843]]) variable([5.26973075]) variable(0.10181280604960243)\n",
            "variable([[2.40310116]]) variable([5.32037549]) variable(0.09512298485383605)\n",
            "variable([[2.34459602]]) variable([5.35121993]) variable(0.09065081640275062)\n",
            "variable([[2.29308646]]) variable([5.37739285]) variable(0.08723906096725743)\n",
            "variable([[2.2480595]]) variable([5.40021536]) variable(0.08463466440508784)\n",
            "variable([[2.20871786]]) variable([5.42015291]) variable(0.08264656764154595)\n",
            "variable([[2.17434477]]) variable([5.43757232]) variable(0.0811289305635685)\n",
            "variable([[2.1443128]]) variable([5.45279175]) variable(0.07997042442704135)\n",
            "variable([[2.11807369]]) variable([5.46608905]) variable(0.07908606512411756)\n"
          ]
        }
      ]
    },
    {
      "cell_type": "code",
      "source": [
        "X, Y = x.data, y.data\n",
        "\n",
        "plt.plot(X, W.data*X+b.data, c='r', linewidth=1)\n",
        "plt.scatter(X, Y, s=15)\n",
        "plt.show()"
      ],
      "metadata": {
        "colab": {
          "base_uri": "https://localhost:8080/",
          "height": 265
        },
        "id": "XQL-0Yg6e_lj",
        "outputId": "12f5d4cb-72ca-474d-c694-6d05827faca3"
      },
      "execution_count": 16,
      "outputs": [
        {
          "output_type": "display_data",
          "data": {
            "text/plain": [
              "<Figure size 432x288 with 1 Axes>"
            ],
            "image/png": "[encoded data removed]"
          },
          "metadata": {
            "needs_background": "light"
          }
        }
      ]
    }
  ]
}