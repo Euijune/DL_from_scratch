{
  "nbformat": 4,
  "nbformat_minor": 0,
  "metadata": {
    "colab": {
      "name": "Step 53.ipynb",
      "provenance": []
    },
    "kernelspec": {
      "name": "python3",
      "display_name": "Python 3"
    },
    "language_info": {
      "name": "python"
    }
  },
  "cells": [
    {
      "cell_type": "code",
      "execution_count": 1,
      "metadata": {
        "colab": {
          "base_uri": "https://localhost:8080/"
        },
        "id": "6OR9N2oQCJ6E",
        "outputId": "efc610ff-74d1-4d5a-aa4a-ff9ed7e1b0b3"
      },
      "outputs": [
        {
          "output_type": "stream",
          "name": "stdout",
          "text": [
            "Mounted at /content/drive\n",
            "/content/drive/Shareddrives/Data/밑바닥부터 시작하는 딥러닝\n"
          ]
        }
      ],
      "source": [
        "from graphviz import Source\n",
        "from IPython.display import Image\n",
        "from google.colab import drive\n",
        "\n",
        "drive.mount('/content/drive')\n",
        "%cd /content/drive/Shareddrives/Data/밑바닥부터 시작하는 딥러닝"
      ]
    },
    {
      "cell_type": "markdown",
      "source": [
        "# Step 53"
      ],
      "metadata": {
        "id": "YWA_ahQTCN63"
      }
    },
    {
      "cell_type": "code",
      "source": [
        "import os\n",
        "import dezero\n",
        "import dezero.datasets as dsets\n",
        "from dezero import DataLoader, optimizers\n",
        "from dezero.models import MLP\n",
        "import dezero.functions as F\n",
        "\n",
        "max_epoch = 3\n",
        "batch_size = 100\n",
        "hidden_size = 1000\n",
        "\n",
        "train_set = dsets.MNIST(train=True)\n",
        "train_loader = DataLoader(train_set, batch_size)\n",
        "\n",
        "model = MLP((hidden_size, 10))\n",
        "optimizer = optimizers.SGD().setup(model)\n",
        "\n",
        "# 매개변수 읽기\n",
        "if os.path.exists('models/my_mlp.npz'):\n",
        "    model.load_weights('models/my_mlp.npz')\n",
        "\n",
        "for epoch in range(max_epoch):\n",
        "    sum_loss = 0\n",
        "\n",
        "    for x, t in train_loader:   # 훈련용 미니배치 데이터\n",
        "        y = model(x)\n",
        "        loss = F.softmax_cross_entropy(y, t)\n",
        "        model.cleargrads()\n",
        "        loss.backward()\n",
        "        optimizer.update()\n",
        "        \n",
        "        sum_loss += float(loss.data) * len(t)\n",
        "\n",
        "    avg_loss = sum_loss / len(train_set)\n",
        "\n",
        "    print(f'epoch: {epoch+1}, loss: {avg_loss:.4f}')\n",
        "\n",
        "# 매개변수 저장\n",
        "model.save_weights('models/my_mlp.npz')"
      ],
      "metadata": {
        "colab": {
          "base_uri": "https://localhost:8080/"
        },
        "id": "Na5kfW-LCSOd",
        "outputId": "3cabc411-ace7-465b-b671-463a0aad6fb3"
      },
      "execution_count": 4,
      "outputs": [
        {
          "output_type": "stream",
          "name": "stdout",
          "text": [
            "epoch: 1, loss: 1.9216\n",
            "epoch: 2, loss: 1.2843\n",
            "epoch: 3, loss: 0.9210\n"
          ]
        }
      ]
    }
  ]
}