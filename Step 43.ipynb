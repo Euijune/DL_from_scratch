{
  "nbformat": 4,
  "nbformat_minor": 0,
  "metadata": {
    "colab": {
      "name": "Step 43.ipynb",
      "provenance": []
    },
    "kernelspec": {
      "name": "python3",
      "display_name": "Python 3"
    },
    "language_info": {
      "name": "python"
    }
  },
  "cells": [
    {
      "cell_type": "code",
      "source": [
        "from graphviz import Source\n",
        "from IPython.display import Image\n",
        "from google.colab import drive\n",
        "\n",
        "drive.mount('/content/drive')\n",
        "%cd /content/drive/Shareddrives/Data/밑바닥부터 시작하는 딥러닝"
      ],
      "metadata": {
        "colab": {
          "base_uri": "https://localhost:8080/"
        },
        "id": "Dz5VB-DVghsE",
        "outputId": "27946951-db99-42e8-bb82-e9cb672d34e4"
      },
      "execution_count": 1,
      "outputs": [
        {
          "output_type": "stream",
          "name": "stdout",
          "text": [
            "Drive already mounted at /content/drive; to attempt to forcibly remount, call drive.mount(\"/content/drive\", force_remount=True).\n",
            "/content/drive/Shareddrives/Data/밑바닥부터 시작하는 딥러닝\n"
          ]
        }
      ]
    },
    {
      "cell_type": "markdown",
      "source": [
        "# Step 43 - Neural Network"
      ],
      "metadata": {
        "id": "NdLBMlP5geFO"
      }
    },
    {
      "cell_type": "markdown",
      "source": [
        "### 비선형 데이터 셋"
      ],
      "metadata": {
        "id": "-OWFm7NsjAt7"
      }
    },
    {
      "cell_type": "code",
      "execution_count": 2,
      "metadata": {
        "colab": {
          "base_uri": "https://localhost:8080/",
          "height": 279
        },
        "id": "c88hmyjvgZBq",
        "outputId": "b2b2e770-052e-4db5-9fef-38fa986f54b1"
      },
      "outputs": [
        {
          "output_type": "display_data",
          "data": {
            "text/plain": [
              "<Figure size 432x288 with 1 Axes>"
            ],
            "image/png": "[encoded data removed]"
          },
          "metadata": {
            "needs_background": "light"
          }
        }
      ],
      "source": [
        "import numpy as np\n",
        "import matplotlib.pyplot as plt\n",
        "\n",
        "np.random.seed(0)\n",
        "x = np.random.rand(100, 1)\n",
        "y = np.sin(2 * np.pi * x) + np.random.rand(100, 1)  # Add noise\n",
        "\n",
        "plt.scatter(x, y, s=15)\n",
        "plt.xlabel('x')\n",
        "plt.ylabel('y')\n",
        "plt.show()"
      ]
    },
    {
      "cell_type": "markdown",
      "source": [
        "### 신경망 구현"
      ],
      "metadata": {
        "id": "h9v056YJk5-Z"
      }
    },
    {
      "cell_type": "code",
      "source": [
        "import numpy as np\n",
        "from dezero import Variable as v\n",
        "import dezero.functions as F\n",
        "\n",
        "# data set\n",
        "np.random.seed(0)\n",
        "x = np.random.rand(100, 1)\n",
        "y = np.sin(2 * np.pi * x) + np.random.rand(100, 1)  # Add noise\n",
        "\n",
        "# weight initialization\n",
        "input_dim , hidden_dim , output_dim = 1, 10, 1\n",
        "W1 = v(0.01 * np.random.randn(input_dim, hidden_dim))\n",
        "b1 = v(np.zeros(hidden_dim))\n",
        "W2 = v(0.01 * np.random.randn(hidden_dim, output_dim))\n",
        "b2 = v(np.zeros(output_dim))\n",
        "\n",
        "# neural network inference\n",
        "def predict(x):\n",
        "    y = F.linear(x, W1, b1)\n",
        "    y = F.sigmoid(y)\n",
        "    y = F.linear(y, W2, b2)\n",
        "    return y\n",
        "\n",
        "lr = 0.2\n",
        "iters = 10000\n",
        "y_pred = None\n",
        "\n",
        "# train \n",
        "for i in range(iters):\n",
        "    y_pred = predict(x)\n",
        "    loss = F.mean_squared_error(y, y_pred)\n",
        "\n",
        "    W1.cleargrad()\n",
        "    b1.cleargrad()\n",
        "    W2.cleargrad()\n",
        "    b2.cleargrad()\n",
        "    loss.backward()\n",
        "\n",
        "    W1.data -= lr * W1.grad.data\n",
        "    b1.data -= lr * b1.grad.data\n",
        "    W2.data -= lr * W2.grad.data\n",
        "    b2.data -= lr * b2.grad.data\n",
        "    if i % 1000 == 0:\n",
        "        print(loss)"
      ],
      "metadata": {
        "colab": {
          "base_uri": "https://localhost:8080/"
        },
        "id": "V-q6D9pgk69U",
        "outputId": "d43c8d79-2ef3-498c-f450-d899f0dd1f74"
      },
      "execution_count": 3,
      "outputs": [
        {
          "output_type": "stream",
          "name": "stdout",
          "text": [
            "variable(0.8473695850105871)\n",
            "variable(0.2514286285183606)\n",
            "variable(0.24759485466749878)\n",
            "variable(0.23786120447054837)\n",
            "variable(0.21222231333102975)\n",
            "variable(0.16742181117834257)\n",
            "variable(0.0968193261999275)\n",
            "variable(0.07849528290602342)\n",
            "variable(0.07749729552991162)\n",
            "variable(0.07722132399559321)\n"
          ]
        }
      ]
    },
    {
      "cell_type": "code",
      "source": [
        "plt.scatter(x, y, s=15)\n",
        "plt.scatter(x, predict(x).data, c='r', s=30)\n",
        "plt.xlabel('x')\n",
        "plt.ylabel('y')\n",
        "plt.show()"
      ],
      "metadata": {
        "colab": {
          "base_uri": "https://localhost:8080/",
          "height": 279
        },
        "id": "Q7-ZweUOqYwc",
        "outputId": "1cbb3408-1582-4768-f6de-beecace6fb05"
      },
      "execution_count": 20,
      "outputs": [
        {
          "output_type": "display_data",
          "data": {
            "text/plain": [
              "<Figure size 432x288 with 1 Axes>"
            ],
            "image/png": "[encoded data removed]"
          },
          "metadata": {
            "needs_background": "light"
          }
        }
      ]
    }
  ]
}