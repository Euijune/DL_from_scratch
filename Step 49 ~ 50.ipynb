{
  "nbformat": 4,
  "nbformat_minor": 0,
  "metadata": {
    "colab": {
      "name": "Step 49 50.ipynb",
      "provenance": []
    },
    "kernelspec": {
      "name": "python3",
      "display_name": "Python 3"
    },
    "language_info": {
      "name": "python"
    }
  },
  "cells": [
    {
      "cell_type": "code",
      "execution_count": 1,
      "metadata": {
        "colab": {
          "base_uri": "https://localhost:8080/"
        },
        "id": "9Ym2EfTAQj5R",
        "outputId": "6419fe27-0b1f-4e1c-852a-4274ca49abe3"
      },
      "outputs": [
        {
          "output_type": "stream",
          "name": "stdout",
          "text": [
            "Drive already mounted at /content/drive; to attempt to forcibly remount, call drive.mount(\"/content/drive\", force_remount=True).\n",
            "/content/drive/Shareddrives/Data/밑바닥부터 시작하는 딥러닝\n"
          ]
        }
      ],
      "source": [
        "from graphviz import Source\n",
        "from IPython.display import Image\n",
        "from google.colab import drive\n",
        "\n",
        "drive.mount('/content/drive')\n",
        "%cd /content/drive/Shareddrives/Data/밑바닥부터 시작하는 딥러닝"
      ]
    },
    {
      "cell_type": "markdown",
      "source": [
        "# Step 49"
      ],
      "metadata": {
        "id": "kwwx8hCPQ9X4"
      }
    },
    {
      "cell_type": "code",
      "source": [
        "import dezero.datasets as dsets\n",
        "\n",
        "#train_set = dsets.get_spiral(train=True)\n",
        "train_set = dsets.Spiral(train=True)\n",
        "print(train_set[10])\n",
        "print(len(train_set))"
      ],
      "metadata": {
        "colab": {
          "base_uri": "https://localhost:8080/"
        },
        "id": "2ilrkKCtQ_d3",
        "outputId": "679133e7-487c-4b36-f63c-fd51925910f6"
      },
      "execution_count": 2,
      "outputs": [
        {
          "output_type": "stream",
          "name": "stdout",
          "text": [
            "(array([-0.12995958, -0.00324155], dtype=float32), 1)\n",
            "300\n"
          ]
        }
      ]
    },
    {
      "cell_type": "code",
      "source": [
        "from dezero import transforms\n",
        "\n",
        "f = transforms.Normalize(mean=0.0, std=2.0)\n",
        "train_set = dsets.Spiral(transform=f)\n",
        "print(train_set[10])\n",
        "print(len(train_set))"
      ],
      "metadata": {
        "colab": {
          "base_uri": "https://localhost:8080/"
        },
        "id": "oIcUvGg4USIp",
        "outputId": "4b7808b0-335c-46d0-e298-bb0c85fb93e4"
      },
      "execution_count": 3,
      "outputs": [
        {
          "output_type": "stream",
          "name": "stdout",
          "text": [
            "(array([-0.06497979, -0.00162078], dtype=float32), 1)\n",
            "300\n"
          ]
        }
      ]
    },
    {
      "cell_type": "markdown",
      "source": [
        "# Step 50"
      ],
      "metadata": {
        "id": "yvEw4hyeQRK7"
      }
    },
    {
      "cell_type": "code",
      "source": [
        "import dezero.datasets as dsets\n",
        "from dezero import DataLoader\n",
        "\n",
        "batch_size = 10\n",
        "max_epoch = 1\n",
        "\n",
        "train_set = dsets.Spiral(train=True)\n",
        "test_set = dsets.Spiral(train=False)\n",
        "train_loader = DataLoader(train_set, batch_size)\n",
        "test_loader = DataLoader(test_set, batch_size, shuffle=False)\n",
        "\n",
        "for epoch in range(max_epoch):\n",
        "    for x, t in train_loader:\n",
        "        print(x.shape, t.shape)\n",
        "        print(x)\n",
        "        print(t)\n",
        "        break\n",
        "\n",
        "    # 에포크 끝에서 test데이터 꺼냄\n",
        "    for x, t in test_loader:\n",
        "        print(x.shape, t.shape)\n",
        "        print(x)\n",
        "        print(t)\n",
        "        break"
      ],
      "metadata": {
        "colab": {
          "base_uri": "https://localhost:8080/"
        },
        "id": "cA3ggzDNQSf4",
        "outputId": "f6606b62-cc02-4331-838b-341b67f3c686"
      },
      "execution_count": 4,
      "outputs": [
        {
          "output_type": "stream",
          "name": "stdout",
          "text": [
            "(10, 2) (10,)\n",
            "[[ 0.662295    0.3070266 ]\n",
            " [-0.4507611  -0.3649855 ]\n",
            " [-0.29891637 -0.75282735]\n",
            " [ 0.1297094  -0.15223493]\n",
            " [-0.24501143  0.04969303]\n",
            " [ 0.43561164 -0.45512912]\n",
            " [-0.          0.        ]\n",
            " [ 0.5703474   0.5609847 ]\n",
            " [ 0.05997716 -0.00165524]\n",
            " [-0.05060399 -0.427012  ]]\n",
            "[1 2 0 2 1 0 0 1 2 2]\n",
            "(10, 2) (10,)\n",
            "[[ 0.13246453  0.13620993]\n",
            " [-0.31427157  0.24745378]\n",
            " [-0.4163083  -0.7525207 ]\n",
            " [-0.23108277  0.06481325]\n",
            " [-0.0013787  -0.41999775]\n",
            " [-0.10935841 -0.3951465 ]\n",
            " [ 0.92357093  0.17497644]\n",
            " [-0.59439325  0.64891964]\n",
            " [-0.7590094   0.0387906 ]\n",
            " [ 0.43388283 -0.36965618]]\n",
            "[0 1 0 1 2 2 1 2 2 0]\n"
          ]
        }
      ]
    },
    {
      "cell_type": "code",
      "source": [
        "import numpy as np\n",
        "import dezero.functions as F\n",
        "\n",
        "y = np.array([[0.2, 0.8, 0], [0.1, 0.9, 0], [0.8, 0.1, 0.1]])\n",
        "t = np.array([1,2,0])\n",
        "acc = F.accuracy(y, t)\n",
        "print(acc)"
      ],
      "metadata": {
        "colab": {
          "base_uri": "https://localhost:8080/"
        },
        "id": "Xy0NmLVJTuG-",
        "outputId": "d3d2c140-850f-4ed9-9e2a-0eed97dd31d7"
      },
      "execution_count": 6,
      "outputs": [
        {
          "output_type": "stream",
          "name": "stdout",
          "text": [
            "variable(0.6666666666666666)\n"
          ]
        }
      ]
    },
    {
      "cell_type": "markdown",
      "source": [
        "training spiral dataset with DataLoader, accuracy"
      ],
      "metadata": {
        "id": "9zF8PoteVKuS"
      }
    },
    {
      "cell_type": "code",
      "source": [
        "import dezero\n",
        "from dezero.models import MLP\n",
        "from dezero import optimizers\n",
        "\n",
        "max_epoch = 300\n",
        "batch_size = 30\n",
        "hidden_size = 10\n",
        "lr = 1.0\n",
        "\n",
        "train_set = dsets.Spiral(train=True)\n",
        "test_set = dsets.Spiral(train=False)\n",
        "train_loader = DataLoader(train_set, batch_size)\n",
        "test_loader = DataLoader(test_set, batch_size, shuffle=False)\n",
        "\n",
        "model = MLP((hidden_size, 3))\n",
        "optimizer = optimizers.SGD(lr).setup(model)\n",
        "\n",
        "save_loss_train = []\n",
        "save_loss_test = []\n",
        "save_acc_train = []\n",
        "save_acc_test = []\n",
        "\n",
        "for epoch in range(max_epoch):\n",
        "    sum_loss, sum_acc = 0, 0\n",
        "\n",
        "    for x, t in train_loader:   # 훈련용 미니배치 데이터\n",
        "        y = model(x)\n",
        "        loss = F.softmax_cross_entropy(y, t)\n",
        "        acc = F.accuracy(y, t)\n",
        "        model.cleargrads()\n",
        "        loss.backward()\n",
        "        optimizer.update()\n",
        "        \n",
        "        sum_loss += float(loss.data) * len(t)\n",
        "        sum_acc += float(acc.data) * len(t)\n",
        "\n",
        "    avg_loss = sum_loss / len(train_set)\n",
        "    avg_acc = sum_acc / len(train_set)\n",
        "\n",
        "    save_loss_train.append(avg_loss)\n",
        "    save_acc_train.append(avg_acc)\n",
        "\n",
        "    if (epoch+1) % 30 == 0:\n",
        "        print(f'epoch: {epoch+1}')\n",
        "        print(f'train loss: {avg_loss:.4f}, accuracy: {avg_acc:.4f}')\n",
        "\n",
        "    sum_loss, sum_acc = 0, 0\n",
        "    with dezero.no_grad():  # 테스트는 기울기 불필요\n",
        "        for x, t in test_loader:\n",
        "            y = model(x)\n",
        "            loss = F.softmax_cross_entropy(y, t)\n",
        "            acc = F.accuracy(y, t)\n",
        "\n",
        "            sum_loss += float(loss.data) * len(t)\n",
        "            sum_acc += float(acc.data) * len(t)\n",
        "    \n",
        "    avg_loss = sum_loss / len(train_set)\n",
        "    avg_acc = sum_acc / len(train_set)\n",
        "\n",
        "    save_loss_test.append(avg_loss)\n",
        "    save_acc_test.append(avg_acc)\n",
        "\n",
        "    if (epoch+1) % 30 == 0:\n",
        "        print(f'test loss: {avg_loss:.4f}, accuracy: {avg_acc:.4f}')\n",
        "        print()"
      ],
      "metadata": {
        "colab": {
          "base_uri": "https://localhost:8080/"
        },
        "id": "yKM2d5wqVNxJ",
        "outputId": "739a3adc-3bc4-4587-9c89-523dba9dc203"
      },
      "execution_count": 13,
      "outputs": [
        {
          "output_type": "stream",
          "name": "stdout",
          "text": [
            "epoch: 30\n",
            "train loss: 0.7273, accuracy: 0.5600\n",
            "test loss: 0.7382, accuracy: 0.5433\n",
            "\n",
            "epoch: 60\n",
            "train loss: 0.6122, accuracy: 0.6633\n",
            "test loss: 0.6169, accuracy: 0.6400\n",
            "\n",
            "epoch: 90\n",
            "train loss: 0.3772, accuracy: 0.8333\n",
            "test loss: 0.3831, accuracy: 0.8300\n",
            "\n",
            "epoch: 120\n",
            "train loss: 0.2361, accuracy: 0.9200\n",
            "test loss: 0.2573, accuracy: 0.9200\n",
            "\n",
            "epoch: 150\n",
            "train loss: 0.1890, accuracy: 0.9233\n",
            "test loss: 0.2152, accuracy: 0.9067\n",
            "\n",
            "epoch: 180\n",
            "train loss: 0.1539, accuracy: 0.9500\n",
            "test loss: 0.1814, accuracy: 0.9367\n",
            "\n",
            "epoch: 210\n",
            "train loss: 0.1382, accuracy: 0.9533\n",
            "test loss: 0.1676, accuracy: 0.9467\n",
            "\n",
            "epoch: 240\n",
            "train loss: 0.1251, accuracy: 0.9500\n",
            "test loss: 0.1583, accuracy: 0.9433\n",
            "\n",
            "epoch: 270\n",
            "train loss: 0.1191, accuracy: 0.9567\n",
            "test loss: 0.1507, accuracy: 0.9533\n",
            "\n",
            "epoch: 300\n",
            "train loss: 0.1082, accuracy: 0.9667\n",
            "test loss: 0.1458, accuracy: 0.9600\n",
            "\n"
          ]
        }
      ]
    },
    {
      "cell_type": "code",
      "source": [
        "import matplotlib.pyplot as plt\n",
        "\n",
        "plt.figure(figsize=(16, 6))\n",
        "\n",
        "plt.subplot(121)\n",
        "plt.xlabel('epoch')\n",
        "plt.ylabel('loss')\n",
        "plt.plot(np.arange(1, 301), save_loss_train, label='train')\n",
        "plt.plot(np.arange(1, 301), save_loss_test, label='test')\n",
        "plt.legend()\n",
        "\n",
        "plt.subplot(122)\n",
        "plt.xlabel('epoch')\n",
        "plt.ylabel('accuracy')\n",
        "plt.plot(np.arange(1, 301), save_acc_train, label='train')\n",
        "plt.plot(np.arange(1, 301), save_acc_test, label='test')\n",
        "plt.legend()\n",
        "\n",
        "plt.show()"
      ],
      "metadata": {
        "colab": {
          "base_uri": "https://localhost:8080/",
          "height": 389
        },
        "id": "br63tX2cYeyT",
        "outputId": "252e7780-7ec0-4d82-945d-5410d39d6ea1"
      },
      "execution_count": 25,
      "outputs": [
        {
          "output_type": "display_data",
          "data": {
            "text/plain": [
              "<Figure size 1152x432 with 2 Axes>"
            ],
            "image/png": "[encoded data removed]"
          },
          "metadata": {
            "needs_background": "light"
          }
        }
      ]
    }
  ]
}