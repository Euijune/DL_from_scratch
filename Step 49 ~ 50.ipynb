{
  "nbformat": 4,
  "nbformat_minor": 0,
  "metadata": {
    "colab": {
      "name": "Step 49 50.ipynb",
      "provenance": []
    },
    "kernelspec": {
      "name": "python3",
      "display_name": "Python 3"
    },
    "language_info": {
      "name": "python"
    }
  },
  "cells": [
    {
      "cell_type": "code",
      "execution_count": 1,
      "metadata": {
        "colab": {
          "base_uri": "https://localhost:8080/"
        },
        "id": "9Ym2EfTAQj5R",
        "outputId": "34369520-a3af-48fb-cf50-52e517e1d12f"
      },
      "outputs": [
        {
          "output_type": "stream",
          "name": "stdout",
          "text": [
            "Mounted at /content/drive\n",
            "/content/drive/Shareddrives/Data/밑바닥부터 시작하는 딥러닝\n"
          ]
        }
      ],
      "source": [
        "from graphviz import Source\n",
        "from IPython.display import Image\n",
        "from google.colab import drive\n",
        "\n",
        "drive.mount('/content/drive')\n",
        "%cd /content/drive/Shareddrives/Data/밑바닥부터 시작하는 딥러닝"
      ]
    },
    {
      "cell_type": "markdown",
      "source": [
        "# Step 49"
      ],
      "metadata": {
        "id": "kwwx8hCPQ9X4"
      }
    },
    {
      "cell_type": "code",
      "source": [
        "import dezero.datasets as dsets\n",
        "\n",
        "#train_set = dsets.get_spiral(train=True)\n",
        "train_set = dsets.Spiral(train=True)\n",
        "print(train_set[10])\n",
        "print(len(train_set))"
      ],
      "metadata": {
        "colab": {
          "base_uri": "https://localhost:8080/"
        },
        "id": "2ilrkKCtQ_d3",
        "outputId": "f9045a72-0b8e-44cf-d624-4516a4f0d330"
      },
      "execution_count": null,
      "outputs": [
        {
          "output_type": "stream",
          "name": "stdout",
          "text": [
            "(array([-0.12995958, -0.00324155], dtype=float32), 1)\n",
            "300\n"
          ]
        }
      ]
    },
    {
      "cell_type": "code",
      "source": [
        "from dezero import transforms\n",
        "\n",
        "f = transforms.Normalize(mean=0.0, std=2.0)\n",
        "train_set = dsets.Spiral(transform=f)\n",
        "print(train_set[10])\n",
        "print(len(train_set))"
      ],
      "metadata": {
        "colab": {
          "base_uri": "https://localhost:8080/"
        },
        "id": "oIcUvGg4USIp",
        "outputId": "357ba9dc-3396-45ee-a50a-88c3eda0f2cd"
      },
      "execution_count": null,
      "outputs": [
        {
          "output_type": "stream",
          "name": "stdout",
          "text": [
            "(array([-0.06497979, -0.00162078], dtype=float32), 1)\n",
            "300\n"
          ]
        }
      ]
    }
  ]
}