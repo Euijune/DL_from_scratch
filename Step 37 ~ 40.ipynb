{
  "nbformat": 4,
  "nbformat_minor": 0,
  "metadata": {
    "colab": {
      "name": "Step 37 ~ 40.ipynb",
      "provenance": []
    },
    "kernelspec": {
      "name": "python3",
      "display_name": "Python 3"
    },
    "language_info": {
      "name": "python"
    }
  },
  "cells": [
    {
      "cell_type": "code",
      "execution_count": 1,
      "metadata": {
        "colab": {
          "base_uri": "https://localhost:8080/"
        },
        "id": "-WT-E1cNzjnq",
        "outputId": "abc095fb-68f7-4d8b-e944-9bffeb9d2432"
      },
      "outputs": [
        {
          "output_type": "stream",
          "name": "stdout",
          "text": [
            "Drive already mounted at /content/drive; to attempt to forcibly remount, call drive.mount(\"/content/drive\", force_remount=True).\n",
            "/content/drive/Shareddrives/Data/밑바닥부터 시작하는 딥러닝\n"
          ]
        }
      ],
      "source": [
        "from graphviz import Source\n",
        "from IPython.display import Image\n",
        "from google.colab import drive\n",
        "\n",
        "drive.mount('/content/drive')\n",
        "%cd /content/drive/Shareddrives/Data/밑바닥부터 시작하는 딥러닝"
      ]
    },
    {
      "cell_type": "markdown",
      "source": [
        "# Step 37"
      ],
      "metadata": {
        "id": "pvnhTT212dEZ"
      }
    },
    {
      "cell_type": "code",
      "source": [
        "import numpy as np\n",
        "import dezero.functions as F\n",
        "from dezero import Variable as v\n",
        "\n",
        "x = v(np.array([[1,2,3],[4,5,6]]))\n",
        "y = F.sin(x)\n",
        "print(y)"
      ],
      "metadata": {
        "colab": {
          "base_uri": "https://localhost:8080/"
        },
        "id": "lo0SujOt2fSv",
        "outputId": "847856e0-05ad-4081-d19f-5f9018de7f13"
      },
      "execution_count": 2,
      "outputs": [
        {
          "output_type": "stream",
          "name": "stdout",
          "text": [
            "variable([[ 0.84147098  0.90929743  0.14112001]\n",
            "          [-0.7568025  -0.95892427 -0.2794155 ]])\n"
          ]
        }
      ]
    },
    {
      "cell_type": "code",
      "source": [
        "x = v(np.array([[1,2,3],[4,5,6]]))\n",
        "c = v(np.array([[10,20,30],[40,50,60]]))\n",
        "t = x + c\n",
        "y = F.sum(t)\n",
        "print(y)"
      ],
      "metadata": {
        "colab": {
          "base_uri": "https://localhost:8080/"
        },
        "id": "E_nX5x7o4bx4",
        "outputId": "cc5a6ffa-3f01-4acc-ca1b-069155031dd8"
      },
      "execution_count": 3,
      "outputs": [
        {
          "output_type": "stream",
          "name": "stdout",
          "text": [
            "variable(231)\n"
          ]
        }
      ]
    },
    {
      "cell_type": "markdown",
      "source": [
        "# Step 38"
      ],
      "metadata": {
        "id": "IaxXYcyh6QVy"
      }
    },
    {
      "cell_type": "code",
      "source": [
        "import numpy as np\n",
        "from dezero import Variable as v\n",
        "import dezero.functions as F\n",
        "\n",
        "x = v(np.array([[1,2,3],[4,5,6]]))\n",
        "y = F.reshape(x, (6,))\n",
        "y.backward(retain_grad=True)\n",
        "print(x.grad)"
      ],
      "metadata": {
        "colab": {
          "base_uri": "https://localhost:8080/"
        },
        "id": "fueYGQIZ6SBN",
        "outputId": "8a0d9f5a-ab76-42a9-a10b-8a8a8f5dfde8"
      },
      "execution_count": 4,
      "outputs": [
        {
          "output_type": "stream",
          "name": "stdout",
          "text": [
            "variable([[1 1 1]\n",
            "          [1 1 1]])\n"
          ]
        }
      ]
    },
    {
      "cell_type": "code",
      "source": [
        "x = v(np.random.randn(1,2,3))\n",
        "y = x.reshape((2,3))\n",
        "y = x.reshape(2,3)"
      ],
      "metadata": {
        "id": "Ve2DOmYEDyvt"
      },
      "execution_count": 5,
      "outputs": []
    },
    {
      "cell_type": "code",
      "source": [
        "x = v(np.array([[1,2,3],[4,5,6]]))\n",
        "y = F.transpose(x)\n",
        "print(y)\n",
        "y.backward()\n",
        "print(x.grad)"
      ],
      "metadata": {
        "colab": {
          "base_uri": "https://localhost:8080/"
        },
        "id": "EUPKnptxFiuQ",
        "outputId": "1f5b5900-cc3a-4b14-9f60-1eef484cd964"
      },
      "execution_count": 6,
      "outputs": [
        {
          "output_type": "stream",
          "name": "stdout",
          "text": [
            "variable([[1 4]\n",
            "          [2 5]\n",
            "          [3 6]])\n",
            "variable([[1 1 1]\n",
            "          [1 1 1]])\n"
          ]
        }
      ]
    },
    {
      "cell_type": "code",
      "source": [
        "x = v(np.array([[1,2,3],[4,5,6]]))\n",
        "y = x.transpose()   # variable class의 def transpose 사용\n",
        "z = x.T     # variable class의 @property def T 사용\n",
        "print(y)\n",
        "print(z)"
      ],
      "metadata": {
        "colab": {
          "base_uri": "https://localhost:8080/"
        },
        "id": "c4t1iMPIGaLT",
        "outputId": "13f7ec30-83cf-4920-93a4-6d3b484c960d"
      },
      "execution_count": 7,
      "outputs": [
        {
          "output_type": "stream",
          "name": "stdout",
          "text": [
            "variable([[1 4]\n",
            "          [2 5]\n",
            "          [3 6]])\n",
            "variable([[1 4]\n",
            "          [2 5]\n",
            "          [3 6]])\n"
          ]
        }
      ]
    },
    {
      "cell_type": "markdown",
      "source": [
        "# Step 39"
      ],
      "metadata": {
        "id": "Pwmb4FCGDycB"
      }
    },
    {
      "cell_type": "code",
      "source": [
        "import numpy as np\n",
        "from dezero import Variable as v\n",
        "import dezero.functions as F\n",
        "\n",
        "x = v(np.array([[1,2,3],[4,5,6]]))\n",
        "y = F.sum(x)\n",
        "y.backward()\n",
        "print(y)\n",
        "print(x.grad)"
      ],
      "metadata": {
        "colab": {
          "base_uri": "https://localhost:8080/"
        },
        "id": "BMr5OUnPA-NL",
        "outputId": "4e3fac41-1f16-48e9-d798-826b1abb69c4"
      },
      "execution_count": 8,
      "outputs": [
        {
          "output_type": "stream",
          "name": "stdout",
          "text": [
            "variable(21)\n",
            "variable([[1 1 1]\n",
            "          [1 1 1]])\n"
          ]
        }
      ]
    },
    {
      "cell_type": "code",
      "source": [
        "x = v(np.random.randn(2,3,4,5))\n",
        "y = x.sum(keepdims=True)\n",
        "print(y.shape)"
      ],
      "metadata": {
        "colab": {
          "base_uri": "https://localhost:8080/"
        },
        "id": "g--xtre8HUvB",
        "outputId": "c19b4c1a-1bbb-47d1-e412-d5a56933264b"
      },
      "execution_count": 9,
      "outputs": [
        {
          "output_type": "stream",
          "name": "stdout",
          "text": [
            "(1, 1, 1, 1)\n"
          ]
        }
      ]
    },
    {
      "cell_type": "markdown",
      "source": [
        "# Step 40"
      ],
      "metadata": {
        "id": "unbDS3OiJip6"
      }
    },
    {
      "cell_type": "code",
      "source": [
        "import numpy as np\n",
        "from dezero.utils import sum_to\n",
        "\n",
        "x = np.array([[1,2,3,],[4,5,6]])\n",
        "y = sum_to(x, (1, 3))\n",
        "print(y)\n",
        "\n",
        "y = sum_to(x, (2, 1))\n",
        "print(y)"
      ],
      "metadata": {
        "colab": {
          "base_uri": "https://localhost:8080/"
        },
        "id": "A5bL_uipJjoJ",
        "outputId": "cb37c5b9-e15e-4853-b0a4-6ebe18b32669"
      },
      "execution_count": 10,
      "outputs": [
        {
          "output_type": "stream",
          "name": "stdout",
          "text": [
            "[[5 7 9]]\n",
            "[[ 6]\n",
            " [15]]\n"
          ]
        }
      ]
    },
    {
      "cell_type": "code",
      "source": [
        "from dezero import Variable as v\n",
        "\n",
        "x0 = v(np.array([1,2,3]))\n",
        "x1 = v(np.array([10]))\n",
        "y = x0 + x1\n",
        "print(y)\n",
        "\n",
        "y.backward()\n",
        "print(x1.grad)  "
      ],
      "metadata": {
        "colab": {
          "base_uri": "https://localhost:8080/"
        },
        "id": "F5cP4bmcKCiA",
        "outputId": "472d9027-dee8-4875-dbae-0f4af3a5729a"
      },
      "execution_count": 11,
      "outputs": [
        {
          "output_type": "stream",
          "name": "stdout",
          "text": [
            "variable([11 12 13])\n",
            "variable([3])\n"
          ]
        }
      ]
    }
  ]
}