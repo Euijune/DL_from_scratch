{
  "nbformat": 4,
  "nbformat_minor": 0,
  "metadata": {
    "colab": {
      "name": "Step_59.ipynb",
      "provenance": [],
      "collapsed_sections": []
    },
    "kernelspec": {
      "name": "python3",
      "display_name": "Python 3"
    },
    "language_info": {
      "name": "python"
    }
  },
  "cells": [
    {
      "cell_type": "code",
      "execution_count": 1,
      "metadata": {
        "colab": {
          "base_uri": "https://localhost:8080/"
        },
        "id": "sUZ6VKZ7_1c8",
        "outputId": "91c2d2a8-0d7c-41dd-e900-fb7ff2a3757b"
      },
      "outputs": [
        {
          "output_type": "stream",
          "name": "stdout",
          "text": [
            "Drive already mounted at /content/drive; to attempt to forcibly remount, call drive.mount(\"/content/drive\", force_remount=True).\n",
            "/content/drive/Shareddrives/Data/밑바닥부터 시작하는 딥러닝\n"
          ]
        }
      ],
      "source": [
        "from graphviz import Source\n",
        "from IPython.display import Image\n",
        "from google.colab import drive\n",
        "\n",
        "drive.mount('/content/drive')\n",
        "%cd /content/drive/Shareddrives/Data/밑바닥부터 시작하는 딥러닝"
      ]
    },
    {
      "cell_type": "markdown",
      "source": [
        "# Step 59 - RNN"
      ],
      "metadata": {
        "id": "1Ch6cuywDZ2K"
      }
    },
    {
      "cell_type": "code",
      "source": [
        "import numpy as np\n",
        "import dezero.layers as L\n",
        "\n",
        "rnn = L.RNN(10) # 은닉층의 크기만 지정\n",
        "x = np.random.rand(1, 1)\n",
        "h = rnn(x)\n",
        "print(h.shape)\n",
        "y = rnn(np.random.rand(1, 1))\n",
        "print(y.shape)"
      ],
      "metadata": {
        "colab": {
          "base_uri": "https://localhost:8080/"
        },
        "id": "k4wEPL-YDbAV",
        "outputId": "af8d81be-cecd-4463-aba8-268a4cf2bbdc"
      },
      "execution_count": 2,
      "outputs": [
        {
          "output_type": "stream",
          "name": "stdout",
          "text": [
            "(1, 10)\n",
            "(1, 10)\n"
          ]
        }
      ]
    },
    {
      "cell_type": "code",
      "source": [
        "from dezero import Model\n",
        "import dezero.functions as F\n",
        "import dezero.layers as L\n",
        "\n",
        "class SimpleRNN(Model):\n",
        "    def __init__(self, hidden_size, out_size):\n",
        "        super().__init__()\n",
        "        self.rnn = L.RNN(hidden_size)\n",
        "        self.fc = L.Linear(out_size)\n",
        "\n",
        "    def reset_state(self):\n",
        "        self.rnn.reset_state()\n",
        "\n",
        "    def forward(self, x):\n",
        "        h = self.rnn(x)\n",
        "        y = self.fc(h)\n",
        "        return y"
      ],
      "metadata": {
        "id": "GvB-19jjEoIu"
      },
      "execution_count": 3,
      "outputs": []
    },
    {
      "cell_type": "code",
      "source": [
        "seq_data = [np.random.randn(1, 1) for _ in  range(10000)]   # 더미 시계열 데이터\n",
        "xs = seq_data[0:-1]\n",
        "ts = seq_data[1:]   # 정답 데이터 : xs보다 한 단계 앞선 데이터\n",
        "\n",
        "model = SimpleRNN(10, 1)\n",
        "\n",
        "loss, cnt = 0, 0\n",
        "\n",
        "for x, t in zip(xs, ts):\n",
        "    y = model(x)\n",
        "    loss += F.mean_squared_error(y, t)\n",
        "\n",
        "    cnt += 1\n",
        "\n",
        "    if cnt == 2:\n",
        "        model.cleargrads()\n",
        "        loss.backward()\n",
        "        break"
      ],
      "metadata": {
        "id": "lXOCbsmRFRaV"
      },
      "execution_count": 4,
      "outputs": []
    },
    {
      "cell_type": "markdown",
      "source": [
        "predict Sin wave"
      ],
      "metadata": {
        "id": "fYPUemxxHHoy"
      }
    },
    {
      "cell_type": "code",
      "source": [
        "import numpy as np\n",
        "import dezero.datasets as dsets\n",
        "import matplotlib.pyplot as plt\n",
        "\n",
        "train_set = dsets.SinCurve(train=True)\n",
        "print(len(train_set))\n",
        "print(train_set[0])\n",
        "print(train_set[1])\n",
        "print(train_set[2])\n",
        "\n",
        "\n",
        "# 그래프 그리기\n",
        "xs = [example[0] for example in train_set]\n",
        "ts = [example[0] for example in train_set]\n",
        "plt.plot(np.arange(len(xs)), xs, label='xs')\n",
        "plt.plot(np.arange(len(ts)), ts, label='ts')\n",
        "plt.show()"
      ],
      "metadata": {
        "colab": {
          "base_uri": "https://localhost:8080/",
          "height": 338
        },
        "id": "M9-JlnBgHJ_z",
        "outputId": "578b0c9a-aff3-4999-a49c-a6c2ffbe6224"
      },
      "execution_count": 5,
      "outputs": [
        {
          "output_type": "stream",
          "name": "stdout",
          "text": [
            "999\n",
            "(array([0.02624261]), array([0.02492104]))\n",
            "(array([0.02492104]), array([-0.00669001]))\n",
            "(array([-0.00669001]), array([0.05171543]))\n"
          ]
        },
        {
          "output_type": "display_data",
          "data": {
            "text/plain": [
              "<Figure size 432x288 with 1 Axes>"
            ],
            "image/png": "[encoded data removed]"
          },
          "metadata": {
            "needs_background": "light"
          }
        }
      ]
    },
    {
      "cell_type": "code",
      "source": [
        "import dezero\n",
        "\n",
        "\n",
        "max_epoch = 100\n",
        "hidden_size = 100\n",
        "bptt_length = 30    # BPTT 길이\n",
        "seqlen = len(train_set)\n",
        "\n",
        "model = SimpleRNN(hidden_size, 1)\n",
        "optimizer = dezero.optimizers.Adam().setup(model)\n",
        "\n",
        "# train\n",
        "for epoch in range(max_epoch):\n",
        "    model.reset_state()\n",
        "    loss, count = 0, 0\n",
        "\n",
        "    for x, t in train_set:\n",
        "        x = x.reshape(1, 1)\n",
        "        y = model(x)\n",
        "        loss += F.mean_squared_error(y, t)\n",
        "        count += 1\n",
        "\n",
        "        # Truncated BPTT의 타이밍 조정\n",
        "        if count % bptt_length == 0 or count == seqlen:\n",
        "            model.cleargrads()\n",
        "            loss.backward()\n",
        "            loss.unchain_backward() # 연결 끊기\n",
        "            optimizer.update()\n",
        "\n",
        "    avg_loss = float(loss.data) / count\n",
        "    print(f'| epoch {epoch+1} | loss {avg_loss}')"
      ],
      "metadata": {
        "colab": {
          "base_uri": "https://localhost:8080/"
        },
        "id": "gRN17gCpJSQp",
        "outputId": "114085c9-d7bd-43d7-eef8-f32232685115"
      },
      "execution_count": 6,
      "outputs": [
        {
          "output_type": "stream",
          "name": "stdout",
          "text": [
            "| epoch 1 | loss 0.12805898389302742\n",
            "| epoch 2 | loss 0.13580451358633908\n",
            "| epoch 3 | loss 0.021200884466461452\n",
            "| epoch 4 | loss 0.005499103440523778\n",
            "| epoch 5 | loss 0.0027512957206029367\n",
            "| epoch 6 | loss 0.0021952474721775614\n",
            "| epoch 7 | loss 0.0020664311628782366\n",
            "| epoch 8 | loss 0.0021079319643182537\n",
            "| epoch 9 | loss 0.002030638975390474\n",
            "| epoch 10 | loss 0.002382465270860591\n",
            "| epoch 11 | loss 0.0031368060715637547\n",
            "| epoch 12 | loss 0.004993254641404902\n",
            "| epoch 13 | loss 0.007658103157788917\n",
            "| epoch 14 | loss 0.007621525859411228\n",
            "| epoch 15 | loss 0.0047336637915421816\n",
            "| epoch 16 | loss 0.0033972172521423184\n",
            "| epoch 17 | loss 0.0036785715140934807\n",
            "| epoch 18 | loss 0.004939244236710137\n",
            "| epoch 19 | loss 0.006792312912569574\n",
            "| epoch 20 | loss 0.007549148526650996\n",
            "| epoch 21 | loss 0.00602026290509257\n",
            "| epoch 22 | loss 0.004288734388246705\n",
            "| epoch 23 | loss 0.003807718684795029\n",
            "| epoch 24 | loss 0.00420605770778194\n",
            "| epoch 25 | loss 0.005098062376468177\n",
            "| epoch 26 | loss 0.005961909654506174\n",
            "| epoch 27 | loss 0.006049477568398026\n",
            "| epoch 28 | loss 0.00527060573393032\n",
            "| epoch 29 | loss 0.004438823853229706\n",
            "| epoch 30 | loss 0.004100336024114007\n",
            "| epoch 31 | loss 0.004206030412260272\n",
            "| epoch 32 | loss 0.0045460042640817514\n",
            "| epoch 33 | loss 0.0048784153214463276\n",
            "| epoch 34 | loss 0.004973095177772166\n",
            "| epoch 35 | loss 0.004764447771994714\n",
            "| epoch 36 | loss 0.004413519217398484\n",
            "| epoch 37 | loss 0.004131801392703875\n",
            "| epoch 38 | loss 0.004008012179391509\n",
            "| epoch 39 | loss 0.004018168084529737\n",
            "| epoch 40 | loss 0.004096250348853437\n",
            "| epoch 41 | loss 0.0041662194280338355\n",
            "| epoch 42 | loss 0.004154046556859894\n",
            "| epoch 43 | loss 0.004007585530057482\n",
            "| epoch 44 | loss 0.00386185179745705\n",
            "| epoch 45 | loss 0.0047299888691264575\n",
            "| epoch 46 | loss 0.0051259733852650514\n",
            "| epoch 47 | loss 0.005299829092960428\n",
            "| epoch 48 | loss 0.004387546951928695\n",
            "| epoch 49 | loss 0.004336766008215182\n",
            "| epoch 50 | loss 0.007807722402702836\n",
            "| epoch 51 | loss 0.02613774363967595\n",
            "| epoch 52 | loss 0.08018734333568037\n",
            "| epoch 53 | loss 0.10257629721281605\n",
            "| epoch 54 | loss 0.14358003621846352\n",
            "| epoch 55 | loss 0.03419346076453962\n",
            "| epoch 56 | loss 0.07837954194373717\n",
            "| epoch 57 | loss 0.020600635748747695\n",
            "| epoch 58 | loss 0.014102009145059838\n",
            "| epoch 59 | loss 0.008502294523441811\n",
            "| epoch 60 | loss 0.02632629174415267\n",
            "| epoch 61 | loss 0.008306746576236763\n",
            "| epoch 62 | loss 0.004795947385269571\n",
            "| epoch 63 | loss 0.006697501280782293\n",
            "| epoch 64 | loss 0.004740625493639529\n",
            "| epoch 65 | loss 0.003085808917353806\n",
            "| epoch 66 | loss 0.00318197801004844\n",
            "| epoch 67 | loss 0.0035150395932996973\n",
            "| epoch 68 | loss 0.0038607916137164337\n",
            "| epoch 69 | loss 0.004690157513460445\n",
            "| epoch 70 | loss 0.005907360440160727\n",
            "| epoch 71 | loss 0.007762777936566298\n",
            "| epoch 72 | loss 0.011794355467992899\n",
            "| epoch 73 | loss 0.017501377830830143\n",
            "| epoch 74 | loss 0.014965055083707119\n",
            "| epoch 75 | loss 0.006570305943057169\n",
            "| epoch 76 | loss 0.004522990829710892\n",
            "| epoch 77 | loss 0.0025964272431896872\n",
            "| epoch 78 | loss 0.0023669983332854647\n",
            "| epoch 79 | loss 0.002012702575257345\n",
            "| epoch 80 | loss 0.0020460438685592592\n",
            "| epoch 81 | loss 0.0019624321118177127\n",
            "| epoch 82 | loss 0.0019169973594234584\n",
            "| epoch 83 | loss 0.0018611467374915942\n",
            "| epoch 84 | loss 0.0018903686343842226\n",
            "| epoch 85 | loss 0.0017167715120985042\n",
            "| epoch 86 | loss 0.0017969810281632734\n",
            "| epoch 87 | loss 0.0016674479062351519\n",
            "| epoch 88 | loss 0.0016395996620759744\n",
            "| epoch 89 | loss 0.0016616650936808657\n",
            "| epoch 90 | loss 0.0017030976274725286\n",
            "| epoch 91 | loss 0.0017717325156454227\n",
            "| epoch 92 | loss 0.00174468608784326\n",
            "| epoch 93 | loss 0.0017460379725969942\n",
            "| epoch 94 | loss 0.0019698607272633987\n",
            "| epoch 95 | loss 0.0019569611766759765\n",
            "| epoch 96 | loss 0.0022314768965021087\n",
            "| epoch 97 | loss 0.002713744060742444\n",
            "| epoch 98 | loss 0.0029778203110122086\n",
            "| epoch 99 | loss 0.003220149315223391\n",
            "| epoch 100 | loss 0.0038288820478607575\n"
          ]
        }
      ]
    },
    {
      "cell_type": "code",
      "source": [
        "xs = np.cos(np.linspace(0, 4*np.pi, 1000))\n",
        "model.reset_state() # 모델 재설정\n",
        "pred_list = []\n",
        "\n",
        "with dezero.no_grad():\n",
        "    for x in xs:\n",
        "        x = np.array(x).reshape(1, 1)\n",
        "        y = model(x)\n",
        "        pred_list.append(float(y.data))\n",
        "\n",
        "plt.plot(np.arange(len(xs)), xs, label='y=cos(x)')\n",
        "plt.plot(np.arange(len(xs)), pred_list, label='predict')\n",
        "plt.xlabel('x')\n",
        "plt.ylabel('y')\n",
        "plt.legend()\n",
        "plt.show()"
      ],
      "metadata": {
        "colab": {
          "base_uri": "https://localhost:8080/",
          "height": 279
        },
        "id": "pG9AtikZMJq2",
        "outputId": "23bd3cca-5e8d-4926-a105-a16e0b2b5026"
      },
      "execution_count": 7,
      "outputs": [
        {
          "output_type": "display_data",
          "data": {
            "text/plain": [
              "<Figure size 432x288 with 1 Axes>"
            ],
            "image/png": "[encoded data removed]"
          },
          "metadata": {
            "needs_background": "light"
          }
        }
      ]
    }
  ]
}