{
  "nbformat": 4,
  "nbformat_minor": 0,
  "metadata": {
    "colab": {
      "name": "Step 48.ipynb",
      "provenance": []
    },
    "kernelspec": {
      "name": "python3",
      "display_name": "Python 3"
    },
    "language_info": {
      "name": "python"
    }
  },
  "cells": [
    {
      "cell_type": "code",
      "execution_count": 1,
      "metadata": {
        "colab": {
          "base_uri": "https://localhost:8080/"
        },
        "id": "JRukXaQ9AYqM",
        "outputId": "5dc188b4-0b5a-48b9-93c9-a6f2b9341db8"
      },
      "outputs": [
        {
          "output_type": "stream",
          "name": "stdout",
          "text": [
            "Mounted at /content/drive\n",
            "/content/drive/Shareddrives/Data/밑바닥부터 시작하는 딥러닝\n"
          ]
        }
      ],
      "source": [
        "from graphviz import Source\n",
        "from IPython.display import Image\n",
        "from google.colab import drive\n",
        "\n",
        "drive.mount('/content/drive')\n",
        "%cd /content/drive/Shareddrives/Data/밑바닥부터 시작하는 딥러닝"
      ]
    },
    {
      "cell_type": "markdown",
      "source": [
        "# Step 48"
      ],
      "metadata": {
        "id": "q6nA0SyiCmv4"
      }
    },
    {
      "cell_type": "code",
      "source": [
        "import dezero.datasets as dsets\n",
        "\n",
        "x, t = dsets.get_spiral(train=True)\n",
        "print(x.shape)\n",
        "print(t.shape)\n",
        "\n",
        "print(x[10], t[10])\n",
        "print(x[110], t[110])"
      ],
      "metadata": {
        "colab": {
          "base_uri": "https://localhost:8080/"
        },
        "id": "UbZYHi3ZCnwF",
        "outputId": "fbc2e8b4-5af3-4679-cd37-b0d7511e35a4"
      },
      "execution_count": 3,
      "outputs": [
        {
          "output_type": "stream",
          "name": "stdout",
          "text": [
            "(300, 2)\n",
            "(300,)\n",
            "[-0.12995958 -0.00324155] 1\n",
            "[ 0.3282343  -0.54941994] 0\n"
          ]
        }
      ]
    },
    {
      "cell_type": "code",
      "source": [
        "import matplotlib.pyplot as plt\n",
        "\n",
        "\n",
        "## spiral dataset\n",
        "for xx, tt in zip(x, t):\n",
        "    if tt == 0:\n",
        "        plt.scatter(xx[0], xx[1], c='orange', marker='o')\n",
        "    elif tt == 1:\n",
        "        plt.scatter(xx[0], xx[1], c='blue', marker='x')\n",
        "    else:\n",
        "        plt.scatter(xx[0], xx[1], c='green', marker='^')\n",
        "\n",
        "plt.show()"
      ],
      "metadata": {
        "colab": {
          "base_uri": "https://localhost:8080/",
          "height": 265
        },
        "id": "6DNOhdVmFBGt",
        "outputId": "062c1f9d-97a8-4674-ddb4-c9096a2fb7a5"
      },
      "execution_count": 7,
      "outputs": [
        {
          "output_type": "display_data",
          "data": {
            "text/plain": [
              "<Figure size 432x288 with 1 Axes>"
            ],
            "image/png": "[encoded data removed]"
          },
          "metadata": {
            "needs_background": "light"
          }
        }
      ]
    },
    {
      "cell_type": "markdown",
      "source": [
        "multiclassification"
      ],
      "metadata": {
        "id": "LOYyFZCQF_SZ"
      }
    },
    {
      "cell_type": "code",
      "source": [
        "import math\n",
        "import numpy as np\n",
        "import dezero\n",
        "from dezero import optimizers\n",
        "from dezero import Variable as v\n",
        "import dezero.functions as F\n",
        "from dezero.models import MLP\n",
        "import dezero.datasets as dsets\n",
        "\n",
        "\n",
        "# hyper parameter\n",
        "max_epoch = 300\n",
        "batch_size = 30\n",
        "hidden_size = 10\n",
        "lr = 1.0\n",
        "\n",
        "# set data\n",
        "x, t = dsets.get_spiral(train=True)\n",
        "model = MLP((hidden_size, 3))   # 0, 1, 2의 class\n",
        "optimizer = optimizers.SGD(lr)\n",
        "optimizer.setup(model)\n",
        "data_size = len(x)\n",
        "max_iter = math.ceil(data_size / batch_size)    # 소수점 반올림\n",
        "\n",
        "# train\n",
        "AVG_LOSS = []   # for plot\n",
        "\n",
        "for epoch in range(max_epoch):\n",
        "    # dataset index shuffle\n",
        "    index = np.random.permutation(data_size)\n",
        "    sum_loss = 0\n",
        "\n",
        "    for i in range(max_iter):\n",
        "        # mini batch\n",
        "        batch_index = index[i * batch_size:(i+1) * batch_size]\n",
        "        batch_x = v(x[batch_index])\n",
        "        batch_t = v(t[batch_index])\n",
        "\n",
        "        # calculate grad & update params\n",
        "        y = model(batch_x)\n",
        "        loss  = F.softmax_cross_entropy(y, batch_t)\n",
        "        model.cleargrads()\n",
        "        loss.backward()\n",
        "        optimizer.update()\n",
        "        sum_loss += float(loss.data) * len(batch_t)\n",
        "\n",
        "    # print training result for 30 epoch\n",
        "    avg_loss = sum_loss / data_size\n",
        "    AVG_LOSS.append(avg_loss)\n",
        "    if (epoch+1) % 30 == 0:\n",
        "        print(f'epoch {epoch+1}, loss {avg_loss:.2f}')"
      ],
      "metadata": {
        "colab": {
          "base_uri": "https://localhost:8080/"
        },
        "id": "0dym2SRrF-_H",
        "outputId": "a71fda17-a677-47cb-abed-5e85283fcece"
      },
      "execution_count": 35,
      "outputs": [
        {
          "output_type": "stream",
          "name": "stdout",
          "text": [
            "epoch 30, loss 0.73\n",
            "epoch 60, loss 0.64\n",
            "epoch 90, loss 0.47\n",
            "epoch 120, loss 0.35\n",
            "epoch 150, loss 0.25\n",
            "epoch 180, loss 0.20\n",
            "epoch 210, loss 0.17\n",
            "epoch 240, loss 0.16\n",
            "epoch 270, loss 0.14\n",
            "epoch 300, loss 0.13\n"
          ]
        }
      ]
    },
    {
      "cell_type": "code",
      "source": [
        "plt.figure(figsize=(8,6))\n",
        "plt.plot(np.arange(1, 301), AVG_LOSS, c='blue', linewidth=1.2)\n",
        "plt.xlabel('epoch')\n",
        "plt.ylabel('loss')\n",
        "plt.show()"
      ],
      "metadata": {
        "colab": {
          "base_uri": "https://localhost:8080/",
          "height": 388
        },
        "id": "1KxMmdVIIs-1",
        "outputId": "0c10acac-2ebf-48a9-fcf6-456aee58e248"
      },
      "execution_count": 27,
      "outputs": [
        {
          "output_type": "display_data",
          "data": {
            "text/plain": [
              "<Figure size 576x432 with 1 Axes>"
            ],
            "image/png": "[encoded data removed]"
          },
          "metadata": {
            "needs_background": "light"
          }
        }
      ]
    },
    {
      "cell_type": "markdown",
      "source": [
        "decision boundary"
      ],
      "metadata": {
        "id": "t274wVowJua0"
      }
    },
    {
      "cell_type": "code",
      "source": [
        "from matplotlib.colors import ListedColormap\n",
        "\n",
        "def plot_decision_regions(X, y, classifier, resolution=0.02):\n",
        "    \n",
        "    # 마커와 컬러맵을 설정합니다\n",
        "    markers = ('s', 'x', 'o', '^', 'v')\n",
        "    colors = ('red', 'blue', 'lightgreen', 'gray', 'cyan')\n",
        "    cmap = ListedColormap(colors[:len(np.unique(y))])\n",
        "    \n",
        "    # 결정 경계를 그립니다.\n",
        "    x1_min, x1_max = X[:, 0].min() - 1, X[:, 0].max() + 1\n",
        "    x2_min, x2_max = X[:, 1].min() - 1, X[:, 1].max() + 1\n",
        "    xx1, xx2 = np.meshgrid(np.arange(x1_min, x1_max, resolution),\n",
        "                          np.arange(x2_min, x2_max, resolution))\n",
        "    Z = classifier(np.array([xx1.ravel(), xx2.ravel()]).T)\n",
        "    Z = F.softmax(Z)    # 입력 데이터 별 class 확률 계산\n",
        "    ZZ = []\n",
        "    for z in Z:\n",
        "        zz = [elem.data for elem in z]  # np.argmax계산을 위해서는 variable 인스턴스 속 data값이 필요\n",
        "        ZZ.append(np.argmax(zz))\n",
        "    ZZ = np.array(ZZ)   # .shape는 np.array의 함수\n",
        "    ZZ = ZZ.reshape(xx1.shape)\n",
        "    plt.contourf(xx1, xx2, ZZ, alpha=0.3, cmap=cmap)\n",
        "    plt.xlim(xx1.min(), xx1.max())\n",
        "    plt.ylim(xx2.min(), xx2.max())\n",
        "\n",
        "## spiral dataset\n",
        "for xx, tt in zip(x, t):\n",
        "    if tt == 0:\n",
        "        plt.scatter(xx[0], xx[1], c='orange', marker='o')\n",
        "    elif tt == 1:\n",
        "        plt.scatter(xx[0], xx[1], c='blue', marker='x')\n",
        "    else:\n",
        "        plt.scatter(xx[0], xx[1], c='green', marker='^')\n",
        "\n",
        "plot_decision_regions(x, t, classifier=model)"
      ],
      "metadata": {
        "colab": {
          "base_uri": "https://localhost:8080/",
          "height": 265
        },
        "id": "Kv7IT5TcJuMb",
        "outputId": "48dfea80-1b27-491b-8a57-09537866befd"
      },
      "execution_count": 49,
      "outputs": [
        {
          "output_type": "display_data",
          "data": {
            "text/plain": [
              "<Figure size 432x288 with 1 Axes>"
            ],
            "image/png": "[encoded data removed]"
          },
          "metadata": {
            "needs_background": "light"
          }
        }
      ]
    }
  ]
}