{
 "cells": [
  {
   "cell_type": "markdown",
   "metadata": {},
   "source": [
    "step 23"
   ]
  },
  {
   "cell_type": "code",
   "execution_count": 2,
   "metadata": {},
   "outputs": [
    {
     "name": "stdout",
     "output_type": "stream",
     "text": [
      "variable(16.0)\n",
      "8.0\n"
     ]
    }
   ],
   "source": [
    "if '__file__' in globals():\n",
    "    import os, sys\n",
    "    sys.path.append(os.path.join(os.path.dirname(__file__),'..'))\n",
    "    \n",
    "import numpy as np\n",
    "from dezero import Variable # 수정해보자\n",
    "\n",
    "x = Variable(np.array(1.0))\n",
    "y = (x + 3) ** 2\n",
    "y.backward()\n",
    "\n",
    "print(y)\n",
    "print(x.grad)"
   ]
  },
  {
   "cell_type": "markdown",
   "metadata": {},
   "source": [
    "step 24"
   ]
  },
  {
   "cell_type": "code",
   "execution_count": 5,
   "metadata": {},
   "outputs": [
    {
     "name": "stdout",
     "output_type": "stream",
     "text": [
      "2.0 , 2.0\n"
     ]
    }
   ],
   "source": [
    "# sphere function\n",
    "\n",
    "import numpy as np\n",
    "from dezero import Variable as v\n",
    "\n",
    "def sphere(x, y):\n",
    "    z = x ** 2 + y ** 2\n",
    "    return z\n",
    "\n",
    "x = v(np.array(1.0))\n",
    "y = v(np.array(1.0))\n",
    "z = sphere(x,y)\n",
    "z.backward()\n",
    "print(x.grad, ',', y.grad)    # z의 x에 대한 편미분, y에 대한 편미분"
   ]
  },
  {
   "cell_type": "code",
   "execution_count": 7,
   "metadata": {},
   "outputs": [
    {
     "name": "stdout",
     "output_type": "stream",
     "text": [
      "0.040000000000000036 , 0.040000000000000036\n"
     ]
    }
   ],
   "source": [
    "# matyas function\n",
    "\n",
    "def matyas(x, y):\n",
    "    z = 0.26 * (x ** 2 + y ** 2) - 0.48 * x * y\n",
    "    return z\n",
    "\n",
    "x = v(np.array(1.0))\n",
    "y = v(np.array(1.0))\n",
    "z = matyas(x,y)\n",
    "z.backward()\n",
    "print(x.grad, ',', y.grad)    # z의 x에 대한 편미분, y에 대한 편미분"
   ]
  },
  {
   "cell_type": "code",
   "execution_count": 11,
   "metadata": {},
   "outputs": [
    {
     "name": "stdout",
     "output_type": "stream",
     "text": [
      "-5376.0 , 8064.0\n"
     ]
    }
   ],
   "source": [
    "# goldstein function\n",
    "\n",
    "def goldstein(x, y):\n",
    "    z = (1 + (x + y + 1)**2 * (19 - 14*x + 3*x**2 - 14*y + 6*x*y + 3*y**2)) * \\\n",
    "        (30 + (2*x - 3*y)**2 * (18 - 32*x +12*x**2 + 48*y - 36*x*y + 27*y**2))\n",
    "    return z\n",
    "\n",
    "x = v(np.array(1.0))\n",
    "y = v(np.array(1.0))\n",
    "z = goldstein(x,y)\n",
    "z.backward()\n",
    "print(x.grad, ',', y.grad)    # z의 x에 대한 편미분, y에 대한 편미분"
   ]
  }
 ],
 "metadata": {
  "kernelspec": {
   "display_name": "Python 3",
   "language": "python",
   "name": "python3"
  },
  "language_info": {
   "codemirror_mode": {
    "name": "ipython",
    "version": 3
   },
   "file_extension": ".py",
   "mimetype": "text/x-python",
   "name": "python",
   "nbconvert_exporter": "python",
   "pygments_lexer": "ipython3",
   "version": "3.7.6"
  }
 },
 "nbformat": 4,
 "nbformat_minor": 4
}
