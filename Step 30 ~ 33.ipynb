{
  "nbformat": 4,
  "nbformat_minor": 0,
  "metadata": {
    "colab": {
      "name": "Step 30 ~ 33.ipynb",
      "provenance": [],
      "collapsed_sections": []
    },
    "kernelspec": {
      "name": "python3",
      "display_name": "Python 3"
    },
    "language_info": {
      "name": "python"
    }
  },
  "cells": [
    {
      "cell_type": "code",
      "execution_count": 1,
      "metadata": {
        "colab": {
          "base_uri": "https://localhost:8080/"
        },
        "id": "5i5Zb4HSDaJE",
        "outputId": "c0a3f76d-b373-4bb0-aa8a-1dc8c8486b69"
      },
      "outputs": [
        {
          "output_type": "stream",
          "name": "stdout",
          "text": [
            "Drive already mounted at /content/drive; to attempt to forcibly remount, call drive.mount(\"/content/drive\", force_remount=True).\n",
            "/content/drive/Shareddrives/Data/밑바닥부터 시작하는 딥러닝\n"
          ]
        }
      ],
      "source": [
        "from graphviz import Source\n",
        "from IPython.display import Image\n",
        "from google.colab import drive\n",
        "\n",
        "drive.mount('/content/drive')\n",
        "%cd /content/drive/Shareddrives/Data/밑바닥부터 시작하는 딥러닝"
      ]
    },
    {
      "cell_type": "markdown",
      "source": [
        "# Step 33"
      ],
      "metadata": {
        "id": "-NZC6zwPXCOz"
      }
    },
    {
      "cell_type": "code",
      "source": [
        "import numpy as np\n",
        "from dezero import Variable as v\n",
        "\n",
        "def f(x):\n",
        "    y = x ** 4 - 2 * x ** 2\n",
        "    return y\n",
        "\n",
        "x = v(np.array(2.0))\n",
        "y = f(x)\n",
        "y.backward(create_graph=True)\n",
        "print(x.grad)\n",
        "\n",
        "# 두 번째 역전파\n",
        "gx = x.grad\n",
        "x.cleargrad()\n",
        "gx.backward()\n",
        "print(x.grad)"
      ],
      "metadata": {
        "colab": {
          "base_uri": "https://localhost:8080/"
        },
        "id": "lHEz6pIUXPlH",
        "outputId": "ca111ce3-e431-4616-8ec0-f1ea0de54e8a"
      },
      "execution_count": 5,
      "outputs": [
        {
          "output_type": "stream",
          "name": "stdout",
          "text": [
            "variable(24.0)\n",
            "variable(44.0)\n"
          ]
        }
      ]
    },
    {
      "cell_type": "code",
      "source": [
        "# Optimization using Newton's method\n",
        "\n",
        "x = v(np.array(2.0))\n",
        "iters = 10\n",
        "\n",
        "for i in range(iters):\n",
        "    print(i, x)\n",
        "\n",
        "    y = f(x)\n",
        "    x.cleargrad()\n",
        "    y.backward(create_graph=True)\n",
        "\n",
        "    gx = x.grad\n",
        "    x.cleargrad()\n",
        "    gx.backward()\n",
        "    gx2 = x.grad\n",
        "    \n",
        "    x.data -= gx.data / gx2.data"
      ],
      "metadata": {
        "colab": {
          "base_uri": "https://localhost:8080/"
        },
        "id": "wFCxis4Abj7l",
        "outputId": "d592bc9c-d8fe-40f3-b6af-84b8d5b2e710"
      },
      "execution_count": 6,
      "outputs": [
        {
          "output_type": "stream",
          "name": "stdout",
          "text": [
            "0 variable(2.0)\n",
            "1 variable(1.4545454545454546)\n",
            "2 variable(1.1510467893775467)\n",
            "3 variable(1.0253259289766978)\n",
            "4 variable(1.0009084519430513)\n",
            "5 variable(1.0000012353089454)\n",
            "6 variable(1.000000000002289)\n",
            "7 variable(1.0)\n",
            "8 variable(1.0)\n",
            "9 variable(1.0)\n"
          ]
        }
      ]
    }
  ]
}