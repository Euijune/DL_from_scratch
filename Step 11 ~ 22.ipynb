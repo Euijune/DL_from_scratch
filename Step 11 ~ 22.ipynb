{
 "cells": [
  {
   "cell_type": "markdown",
   "metadata": {
    "id": "XYGpJGXkyTsb"
   },
   "source": [
    "# **Basic**"
   ]
  },
  {
   "cell_type": "code",
   "execution_count": 42,
   "metadata": {
    "id": "g_ZHt4k-wpIB"
   },
   "outputs": [],
   "source": [
    "import numpy as np\n",
    "import contextlib\n",
    "import weakref\n",
    "\n",
    "def as_array(x):\n",
    "    if np.isscalar(x):\n",
    "        return np.array(x)\n",
    "    return x\n",
    "\n",
    "class Variable:\n",
    "    __array_priority__ = 200    # 연산자 우선순위 설정 (Ex. np.array의 __add__보다 Variable의 __add__함수가 먼저 호출됨)\n",
    "    def __init__(self, data, name=None):\n",
    "        if data is not None:\n",
    "            if not isinstance(data, np.ndarray):\n",
    "                raise TypeError('{}은(는) 지원하지 않습니다. step 09를 참조하세요.'.format(type(data)))\n",
    "        \n",
    "        self.data = data\n",
    "        self.name = name\n",
    "        self.grad = None    # gradient = 기울기\n",
    "        self.creator = None\n",
    "        self.generation = 0 # 세대 수를 기록하는 변수\n",
    "\n",
    "    def __len__(self):\n",
    "        return len(self.data)\n",
    "\n",
    "    def __repr__(self): # Variable 클래스의 인스턴스를 print하는 방식 지정\n",
    "        if self.data is None:\n",
    "            return 'variable(None)'\n",
    "        p = str(self.data).replace('\\n', '\\n' + ' ' * 9)\n",
    "        return f'variable({p})'\n",
    "    \n",
    "    def set_creator(self, func):\n",
    "        self.creator = func\n",
    "        self.generation = func.generation + 1   # 세대를 기록한다(부모 세대 + 1)\n",
    "    \n",
    "    def backward(self, retain_grad=False):\n",
    "        if self.grad is None:\n",
    "            self.grad = np.ones_like(self.data)\n",
    "        \n",
    "        funcs = []\n",
    "        seen_set = set()\n",
    "\n",
    "        def add_func(f):    # 함수의 중복추가 방지. Ex : 141p 그림 16-4 의 0세대 square함수는 1세대의 두 square함수에 의해 두 번 추가된다. 이것을 방지\n",
    "            if f not in seen_set:\n",
    "                funcs.append(f)\n",
    "                seen_set.add(f)\n",
    "                funcs.sort(key=lambda x: x.generation)\n",
    "        \n",
    "        add_func(self.creator)\n",
    "\n",
    "        while funcs:\n",
    "            f = funcs.pop()    # 함수를 가져온다\n",
    "            gys = [output().grad for output in f.outputs]   # output.grad는 약하게 참조된 데이터에 접근할 수 없다.\n",
    "            gxs = f.backward(*gys)\n",
    "            if not isinstance(gxs, tuple):\n",
    "                gxs = (gxs,)\n",
    "            \n",
    "            for x, gx in zip(f.inputs, gxs):\n",
    "                if x.grad is None:\n",
    "                    x.grad = gx\n",
    "                else:\n",
    "                    x.grad = x.grad + gx    # 덮어쓰기 연산 x.grad += gx를 사용하면 문제가 생긴다.\n",
    "\n",
    "                if x.creator is not None:   # 역전파가 끝나지 않았다면, 해당 함수를 추가한다.\n",
    "                    add_func(x.creator)\n",
    "\n",
    "            if not retain_grad: # 말단 변수(x0, x1 등) 이외에는 미분값을 유지하지 않는다.\n",
    "                for y in f.outputs:\n",
    "                    y().grad = None # y는 약한 참조(weakref), 이 코드가 실행되면 참조값 카운트가 0이되어 미분값 데이터가 메모리에서 삭제\n",
    "    \n",
    "    def cleargrad(self):\n",
    "        self.grad = None\n",
    "\n",
    "    @property   # x.shape()대신 x.shape로 마치 인스턴스 변수인 것처럼 메서드를 사용 가능.\n",
    "    def shape(self):\n",
    "        return self.data.shape\n",
    "\n",
    "    @property\n",
    "    def ndim(self):\n",
    "        return self.data.ndim\n",
    "    \n",
    "    @property\n",
    "    def size(self):\n",
    "        return self.data.size\n",
    "\n",
    "    @property\n",
    "    def dtype(self):\n",
    "        return self.data.dtype\n",
    "\n",
    "class Config:\n",
    "    enable_backprop = True\n",
    "\n",
    "@contextlib.contextmanager\n",
    "def using_config(name, value):\n",
    "    old_value = getattr(Config, name)\n",
    "    setattr(Config, name, value)    # with 블록안에서, name으로 지정한 Config 클래스의 속성이 value값으로 설정됨\n",
    "    try:\n",
    "        yield\n",
    "    finally:\n",
    "        setattr(Config, name, old_value)    # with 블록 바깥에서는, 원래 값인 old_value로 돌아감\n",
    "        \n",
    "class Function:\n",
    "    def __call__(self, *inputs): # 가변 길이 입출력\n",
    "        inputs = [as_variable(x) for x in inputs]\n",
    "\n",
    "        xs = [x.data for x in inputs]\n",
    "        ys = self.forward(*xs)  # list(xs) unpacking\n",
    "        if not isinstance(ys, tuple):\n",
    "            ys = (ys,)\n",
    "        outputs = [Variable(as_array(y)) for y in ys]\n",
    "\n",
    "        if Config.enable_backprop:\n",
    "            self.generation = max([x.generation for x in inputs])\n",
    "            for output in outputs:\n",
    "                output.set_creator(self)\n",
    "            self.inputs = inputs\n",
    "            self.outputs = [weakref.ref(output) for output in outputs]\n",
    "        \n",
    "        return outputs if len(outputs) > 1 else outputs[0]\n",
    "    \n",
    "    def forward(self, xs):    # 순전파\n",
    "        raise NotImplementedError()\n",
    "    \n",
    "    def backward(self, gys):    \n",
    "        raise NotImplementedError()"
   ]
  },
  {
   "cell_type": "markdown",
   "metadata": {
    "id": "5y59X0NvyOeh"
   },
   "source": [
    "# **Func, Class**"
   ]
  },
  {
   "cell_type": "code",
   "execution_count": 44,
   "metadata": {
    "id": "8tlhsI0MyQRR"
   },
   "outputs": [],
   "source": [
    "def no_grad():\n",
    "    return using_config('enable_backprop', False)\n",
    "\n",
    "def as_variable(obj):\n",
    "    if isinstance(obj, Variable):\n",
    "        return obj\n",
    "    return Variable(obj)\n",
    "\n",
    "class Square(Function):\n",
    "    def forward(self, x):\n",
    "        y = x ** 2\n",
    "        return y\n",
    "    \n",
    "    def backward(self, gy):\n",
    "        x = self.inputs[0].data\n",
    "        gx = 2 * x * gy\n",
    "        return gx\n",
    "    \n",
    "def square(x):\n",
    "    f = Square()\n",
    "    return f(x)\n",
    "    \n",
    "class Exp(Function):\n",
    "    def forward(self, x):\n",
    "        y = np.exp(x)\n",
    "        return y\n",
    "    \n",
    "    def backward(self, gy):\n",
    "        x = self.input.data\n",
    "        gx = np.exp(x) * gy\n",
    "        return gx\n",
    "\n",
    "def exp(x):\n",
    "    return Exp()(x)\n",
    "\n",
    "def add(x0, x1):\n",
    "    x1 = as_array(x1)\n",
    "    return Add()(x0,x1)\n",
    "\n",
    "class Mul(Function):\n",
    "    def forward(self, x0, x1):\n",
    "        y = x0 * x1\n",
    "        return y\n",
    "    \n",
    "    def backward(self, gy):\n",
    "        x0, x1 = self.inputs[0].data, self.inputs[1].data\n",
    "        return gy*x1, gy*x0\n",
    "    \n",
    "def mul(x0, x1):\n",
    "    x1 = as_array(x1)\n",
    "    return Mul()(x0, x1)\n",
    "\n",
    "class Neg(Function):\n",
    "    def forward(self, x):\n",
    "        return -x\n",
    "    \n",
    "    def backward(self, gy):\n",
    "        return -gy\n",
    "    \n",
    "def neg(x):\n",
    "    return Neg()(x)\n",
    "\n",
    "class Sub(Function):\n",
    "    def forward(self, x0, x1):\n",
    "        y = x0 -x1\n",
    "        return y\n",
    "    \n",
    "    def backward(self, gy):\n",
    "        return gy, -gy\n",
    "    \n",
    "def sub(x0, x1):\n",
    "    x1 = as_array(x1)\n",
    "    return Sub()(x0, x1)\n",
    "\n",
    "def rsub(x0, x1):\n",
    "    x1 = as_array(x1)\n",
    "    return Sub()(x1, x0)\n",
    "\n",
    "class Div(Function):\n",
    "    def forward(self, x0, x1):\n",
    "        y = x0 / x1\n",
    "        return y\n",
    "    \n",
    "    def backward(self, gy):\n",
    "        x0, x1 = self.inputs[0].data, self.inputs[1].data\n",
    "        gx0 = gy/x1\n",
    "        gx1 = gy*(-x0 / x1 ** 2)\n",
    "        return gx0, gx1\n",
    "    \n",
    "def div(x0, x1):\n",
    "    x1 = as_array(x1)\n",
    "    return Div()(x0, x1)\n",
    "\n",
    "def rdiv(x0, x1):\n",
    "    x1 = as_array(x1)\n",
    "    return Div()(x1, x0)\n",
    "\n",
    "class Pow(Function):\n",
    "    def __init__(self, c):\n",
    "        self.c = c\n",
    "        \n",
    "    def forward(self, x):\n",
    "        y = x**self.c\n",
    "        return y\n",
    "    \n",
    "    def backward(self, gy):\n",
    "        x = self.inputs[0].data\n",
    "        c = self.c\n",
    "        gx = c * x ** (c-1) * gy\n",
    "        return gx\n",
    "    \n",
    "def pow(x, c):\n",
    "    return Pow(c)(x)\n",
    "\n",
    "'''\n",
    "Variable.__method__ = method는\n",
    "\n",
    "class Variable:\n",
    "    ...\n",
    "    \n",
    "    def __method__(self, other):\n",
    "        return method(self, other)\n",
    "        \n",
    "와 같다.\n",
    "'''\n",
    "Variable.__mul__ = mul    # Variable * float\n",
    "Variable.__add__ = add\n",
    "Variable.__rmul__ = mul    # float * Variable\n",
    "Variable.__radd__ = add\n",
    "Variable.__neg__ = neg\n",
    "Variable.__sub__ = sub\n",
    "Variable.__rsub__ = rsub\n",
    "Variable.__truediv__ = div\n",
    "Variable.__rtruediv__ = rdiv\n",
    "Variable.__pow__ = pow"
   ]
  },
  {
   "cell_type": "markdown",
   "metadata": {
    "id": "mdr-fDw5x4QX"
   },
   "source": [
    "# step 11"
   ]
  },
  {
   "cell_type": "code",
   "execution_count": null,
   "metadata": {
    "colab": {
     "base_uri": "https://localhost:8080/"
    },
    "id": "4LTGB40Mx6Dr",
    "outputId": "4826041c-5b01-4684-fe87-cafe636b69b1"
   },
   "outputs": [
    {
     "name": "stdout",
     "output_type": "stream",
     "text": [
      "5\n"
     ]
    }
   ],
   "source": [
    "xs = [Variable(np.array(2)), Variable(np.array(3))]\n",
    "f = Add()\n",
    "ys = f(xs)\n",
    "y = ys[0]\n",
    "print(y.data)"
   ]
  },
  {
   "cell_type": "markdown",
   "metadata": {
    "id": "yEz3GdhvzA8D"
   },
   "source": [
    "# Step 12"
   ]
  },
  {
   "cell_type": "code",
   "execution_count": null,
   "metadata": {
    "colab": {
     "base_uri": "https://localhost:8080/"
    },
    "id": "SJj0yaPNy8Nc",
    "outputId": "1e439fe4-f3d0-4128-e439-372b123bd283"
   },
   "outputs": [
    {
     "name": "stdout",
     "output_type": "stream",
     "text": [
      "5\n",
      "2 3\n"
     ]
    }
   ],
   "source": [
    "# 첫 번째 개선\n",
    "x0 = Variable(np.array(2))\n",
    "x1 = Variable(np.array(3))\n",
    "f = Add()\n",
    "y = f(x0, x1)\n",
    "print(y.data)\n",
    "print(f.inputs[0].data, f.inputs[1].data)"
   ]
  },
  {
   "cell_type": "code",
   "execution_count": null,
   "metadata": {
    "colab": {
     "base_uri": "https://localhost:8080/"
    },
    "id": "zPbkcR_50HNW",
    "outputId": "1287200d-dbdd-42c3-a35e-3d7987a1d1ee"
   },
   "outputs": [
    {
     "name": "stdout",
     "output_type": "stream",
     "text": [
      "5\n",
      "<__main__.Add object at 0x7f1f94be6dd0>\n"
     ]
    }
   ],
   "source": [
    "# 두 번째 개선\n",
    "x0 = Variable(np.array(2))\n",
    "x1 = Variable(np.array(3))\n",
    "y = add(x0, x1)\n",
    "print(y.data)\n",
    "print(y.creator)"
   ]
  },
  {
   "cell_type": "markdown",
   "metadata": {
    "id": "LDgazvtb3GUg"
   },
   "source": [
    "# Step 13"
   ]
  },
  {
   "cell_type": "code",
   "execution_count": null,
   "metadata": {
    "colab": {
     "base_uri": "https://localhost:8080/"
    },
    "id": "DVKIJ5XY3H4Y",
    "outputId": "94b5f7ba-36bd-4a12-ba80-6ac9354001a7"
   },
   "outputs": [
    {
     "name": "stdout",
     "output_type": "stream",
     "text": [
      "z = 13.0, x.grad = 4.0, y.grad = 6.0\n"
     ]
    }
   ],
   "source": [
    "x = Variable(np.array(2.0))\n",
    "y = Variable(np.array(3.0))\n",
    "\n",
    "z = add(square(x), square(y))    # z = x^2 + y^2\n",
    "z.backward()\n",
    "print(\"z = {}, x.grad = {}, y.grad = {}\".format(z.data, x.grad, y.grad))"
   ]
  },
  {
   "cell_type": "markdown",
   "metadata": {
    "id": "fqNHgkog3fE3"
   },
   "source": [
    "# Step 14"
   ]
  },
  {
   "cell_type": "code",
   "execution_count": null,
   "metadata": {
    "colab": {
     "base_uri": "https://localhost:8080/"
    },
    "id": "SF1VY6ku3iFZ",
    "outputId": "adc1a174-920b-4f8f-e27f-01ee138bdd59"
   },
   "outputs": [
    {
     "name": "stdout",
     "output_type": "stream",
     "text": [
      "y 6.0\n",
      "x.grad 1.0\n"
     ]
    }
   ],
   "source": [
    "# 같은 변수 반복사용 시 오류가 발생함.\n",
    "x = Variable(np.array(3.0))\n",
    "y = add(x,x)\n",
    "print('y', y.data)\n",
    "y.backward()\n",
    "print('x.grad', x.grad) # y = x+x = 2x 의 x에 대한 미분값은 2가 되어야 함."
   ]
  },
  {
   "cell_type": "code",
   "execution_count": null,
   "metadata": {
    "colab": {
     "base_uri": "https://localhost:8080/"
    },
    "id": "es4m8yT749kJ",
    "outputId": "328323aa-b638-4551-af14-7228617a0a95"
   },
   "outputs": [
    {
     "name": "stdout",
     "output_type": "stream",
     "text": [
      "y 6.0\n",
      "x.grad 2.0\n"
     ]
    }
   ],
   "source": [
    "# 오류 개선 후\n",
    "x = Variable(np.array(3.0))\n",
    "y = add(x,x)\n",
    "print('y', y.data)\n",
    "y.backward()\n",
    "print('x.grad', x.grad)"
   ]
  },
  {
   "cell_type": "code",
   "execution_count": null,
   "metadata": {
    "colab": {
     "base_uri": "https://localhost:8080/"
    },
    "id": "HmXJoNER5SDJ",
    "outputId": "7e08d399-6905-4491-a27c-e51a9c42fa5f"
   },
   "outputs": [
    {
     "name": "stdout",
     "output_type": "stream",
     "text": [
      "2.0\n",
      "5.0\n"
     ]
    }
   ],
   "source": [
    "# 같은 변수를 이용하여 다른 계산시 오류가 발생\n",
    "x = Variable(np.array(3.0))\n",
    "y = add(x,x)\n",
    "y.backward()\n",
    "print(x.grad)\n",
    "\n",
    "y = add(add(x,x),x)\n",
    "y.backward()\n",
    "print(x.grad)   # y = x+x+x = 3x의 미분값은 3이다."
   ]
  },
  {
   "cell_type": "code",
   "execution_count": null,
   "metadata": {
    "colab": {
     "base_uri": "https://localhost:8080/"
    },
    "id": "Eryf5yHn5rQU",
    "outputId": "654e2b76-1209-423e-91f3-01f60f115b2f"
   },
   "outputs": [
    {
     "name": "stdout",
     "output_type": "stream",
     "text": [
      "2.0\n",
      "3.0\n"
     ]
    }
   ],
   "source": [
    "# cleargrad() 함수를 이용하여 미분값이 계속 누적되는 오류 해결\n",
    "x = Variable(np.array(3.0))\n",
    "y = add(x,x)\n",
    "y.backward()\n",
    "print(x.grad)\n",
    "\n",
    "x.cleargrad()\n",
    "y = add(add(x,x),x)\n",
    "y.backward()\n",
    "print(x.grad)   # y = x+x+x = 3x의 미분값은 3이다."
   ]
  },
  {
   "cell_type": "markdown",
   "metadata": {
    "id": "YGWiWV5v54rO"
   },
   "source": [
    "# Step 16"
   ]
  },
  {
   "cell_type": "code",
   "execution_count": null,
   "metadata": {
    "colab": {
     "base_uri": "https://localhost:8080/"
    },
    "id": "zxZrz5Ch6PlI",
    "outputId": "ea3cce06-66be-412e-8a7c-e424f123c532"
   },
   "outputs": [
    {
     "name": "stdout",
     "output_type": "stream",
     "text": [
      "[2, 0, 1, 4, 2]\n",
      "[0, 1, 2, 2, 4]\n",
      "4\n"
     ]
    }
   ],
   "source": [
    "# 함수를 세대 순으로 잘 꺼낼 수 있는가?\n",
    "generations = [2, 0, 1, 4, 2]\n",
    "funcs = []\n",
    "\n",
    "for g in generations:\n",
    "    f = Function()  # dummy function class\n",
    "    f.generation = g\n",
    "    funcs.append(f)\n",
    "\n",
    "print([f.generation for f in funcs])\n",
    "\n",
    "funcs.sort(key=lambda x: x.generation)  # list sorting\n",
    "print([f.generation for f in funcs])\n",
    "\n",
    "f = funcs.pop()\n",
    "print(f.generation)"
   ]
  },
  {
   "cell_type": "code",
   "execution_count": null,
   "metadata": {
    "colab": {
     "base_uri": "https://localhost:8080/"
    },
    "id": "mAIzQgcNBQcc",
    "outputId": "2ffa597d-eeb7-4d86-fa95-17e2ad0e3b5c"
   },
   "outputs": [
    {
     "name": "stdout",
     "output_type": "stream",
     "text": [
      "[<__main__.Add object at 0x7f1f94b2c8d0>]\n",
      "[<__main__.Square object at 0x7f1f94b2c090>, <__main__.Square object at 0x7f1f94b2cf10>]\n",
      "[<__main__.Square object at 0x7f1f94b2ca50>, <__main__.Square object at 0x7f1f94b2c090>]\n",
      "[<__main__.Square object at 0x7f1f94b2ca50>]\n",
      "32.0\n",
      "64.0\n"
     ]
    }
   ],
   "source": [
    "# 같은 함수가 중복추가되지 않는 경우\n",
    "x = Variable(np.array(2.0))\n",
    "a = square(x)\n",
    "y = add(square(a), square(a))    # y = (x^2)^2 + (x^2)^2 = 2x^4\n",
    "y.backward()\n",
    "\n",
    "print(y.data)\n",
    "print(x.grad)"
   ]
  },
  {
   "cell_type": "code",
   "execution_count": null,
   "metadata": {
    "colab": {
     "base_uri": "https://localhost:8080/"
    },
    "id": "oC4Y9k49CAOz",
    "outputId": "684f2e15-ebac-461a-d8a5-520f9a2294a6"
   },
   "outputs": [
    {
     "name": "stdout",
     "output_type": "stream",
     "text": [
      "[<__main__.Add object at 0x7f1f94c4cc50>]\n",
      "[<__main__.Square object at 0x7f1f94a909d0>, <__main__.Square object at 0x7f1f94a90610>]\n",
      "[<__main__.Square object at 0x7f1f94a90150>, <__main__.Square object at 0x7f1f94a909d0>]\n",
      "[<__main__.Square object at 0x7f1f94a90150>, <__main__.Square object at 0x7f1f94a90150>]\n",
      "[<__main__.Square object at 0x7f1f94a90150>]\n",
      "32.0\n",
      "128.0\n"
     ]
    }
   ],
   "source": [
    "# 같은 함수가 중복 추가되는 경우 (141p 그림 16-4의 0세대 square함수가 두 번 추가된다.)\n",
    "x = Variable(np.array(2.0))\n",
    "a = square(x)\n",
    "y = add(square(a), square(a))    # y = (x^2)^2 + (x^2)^2 = 2x^4\n",
    "y.backward()\n",
    "\n",
    "print(y.data)\n",
    "print(x.grad)"
   ]
  },
  {
   "cell_type": "markdown",
   "metadata": {
    "id": "sEAATBkcD7A5"
   },
   "source": [
    "# Step 17"
   ]
  },
  {
   "cell_type": "code",
   "execution_count": null,
   "metadata": {
    "colab": {
     "base_uri": "https://localhost:8080/"
    },
    "id": "KuoSnWszF13l",
    "outputId": "1df7c6b4-23cd-4936-9ec6-fd5ea9bbe341"
   },
   "outputs": [
    {
     "name": "stdout",
     "output_type": "stream",
     "text": [
      "Collecting memory_profiler\n",
      "  Downloading memory_profiler-0.60.0.tar.gz (38 kB)\n",
      "Requirement already satisfied: psutil in /usr/local/lib/python3.7/dist-packages (from memory_profiler) (5.4.8)\n",
      "Building wheels for collected packages: memory-profiler\n",
      "  Building wheel for memory-profiler (setup.py) ... \u001b[?25l\u001b[?25hdone\n",
      "  Created wheel for memory-profiler: filename=memory_profiler-0.60.0-py3-none-any.whl size=31284 sha256=75c04b8860445ca0acc946a6eb1b43a275c728291a866e6fb73dfd199dba9112\n",
      "  Stored in directory: /root/.cache/pip/wheels/67/2b/fb/326e30d638c538e69a5eb0aa47f4223d979f502bbdb403950f\n",
      "Successfully built memory-profiler\n",
      "Installing collected packages: memory-profiler\n",
      "Successfully installed memory-profiler-0.60.0\n"
     ]
    }
   ],
   "source": [
    "!pip install memory_profiler"
   ]
  },
  {
   "cell_type": "code",
   "execution_count": null,
   "metadata": {
    "colab": {
     "base_uri": "https://localhost:8080/"
    },
    "id": "RWZ0IjqOF4Fw",
    "outputId": "9ad63a6a-ab44-43cf-d96e-4579c487d459"
   },
   "outputs": [
    {
     "name": "stdout",
     "output_type": "stream",
     "text": [
      "[175.03125]\n",
      "[175.2734375]\n"
     ]
    }
   ],
   "source": [
    "from memory_profiler import memory_usage\n",
    "mem_usage = memory_usage(-1, interval=1, timeout=1)\n",
    "print(mem_usage)\n",
    "\n",
    "for i in range(10):\n",
    "    x = Variable(np.random.randn(10000))\n",
    "    y = square(square(square(x)))\n",
    "    \n",
    "mem_usage = memory_usage(-1, interval=1, timeout=1)\n",
    "print(mem_usage)"
   ]
  },
  {
   "cell_type": "markdown",
   "metadata": {
    "id": "nkNoaGsJG99c"
   },
   "source": [
    "# Step 18"
   ]
  },
  {
   "cell_type": "code",
   "execution_count": null,
   "metadata": {
    "colab": {
     "base_uri": "https://localhost:8080/"
    },
    "id": "QRVEbSIgH7PK",
    "outputId": "49a57f2e-c3ad-45ff-fab5-3e79cc203e27"
   },
   "outputs": [
    {
     "name": "stdout",
     "output_type": "stream",
     "text": [
      "1.0 1.0\n",
      "2.0 1.0\n"
     ]
    }
   ],
   "source": [
    "x0 = Variable(np.array(2.0))\n",
    "x1 = Variable(np.array(2.0))\n",
    "t = add(x0, x1)\n",
    "y = add(x0, t)\n",
    "y.backward()\n",
    "\n",
    "print(y.grad, t.grad)\n",
    "print(x0.grad, x1.grad)"
   ]
  },
  {
   "cell_type": "code",
   "execution_count": null,
   "metadata": {
    "colab": {
     "base_uri": "https://localhost:8080/"
    },
    "id": "Z4QTxdqaHo-c",
    "outputId": "cbab6c60-0dbf-4511-9e3c-cdaa8b170880"
   },
   "outputs": [
    {
     "name": "stdout",
     "output_type": "stream",
     "text": [
      "None None\n",
      "2.0 1.0\n"
     ]
    }
   ],
   "source": [
    "# 말단 변수 x0, x1 이외의 변수 y, t는 미분값이 메모리에서 삭제됨\n",
    "x0 = Variable(np.array(2.0))\n",
    "x1 = Variable(np.array(2.0))\n",
    "t = add(x0, x1)\n",
    "y = add(x0, t)\n",
    "y.backward()\n",
    "\n",
    "print(y.grad, t.grad)\n",
    "print(x0.grad, x1.grad)"
   ]
  },
  {
   "cell_type": "code",
   "execution_count": 5,
   "metadata": {
    "id": "iEALdv83batw"
   },
   "outputs": [],
   "source": [
    "# 모드 전환\n",
    "Config.enable_backprop = True\n",
    "x = Variable(np.ones((100 ,100, 100)))\n",
    "y = square(square(square(x)))\n",
    "y.backward()\n",
    "\n",
    "Config.enable_backprop = False\n",
    "x = Variable(np.ones((100 ,100, 100)))\n",
    "y = square(square(square(x)))"
   ]
  },
  {
   "cell_type": "code",
   "execution_count": 12,
   "metadata": {
    "id": "916qMoLscqD2"
   },
   "outputs": [],
   "source": [
    "# 더 쉽게\n",
    "with no_grad():\n",
    "    x = Variable(np.array(2.0))\n",
    "    y = square(square(square(x)))"
   ]
  },
  {
   "cell_type": "markdown",
   "metadata": {
    "id": "vM2Fus7oehHH"
   },
   "source": [
    "# Step 19"
   ]
  },
  {
   "cell_type": "code",
   "execution_count": 20,
   "metadata": {
    "colab": {
     "base_uri": "https://localhost:8080/"
    },
    "id": "PmA0gE7vdQFI",
    "outputId": "eebec8f6-6c01-4b94-c4fd-e13f8657fc18"
   },
   "outputs": [
    {
     "name": "stdout",
     "output_type": "stream",
     "text": [
      "(2, 3)\n",
      "variable([[1 2 3]\n",
      "          [4 5 6]])\n"
     ]
    }
   ],
   "source": [
    "x = Variable(np.array([[1,2,3],[4,5,6]]))\n",
    "print(x.shape)\n",
    "print(x)"
   ]
  },
  {
   "cell_type": "markdown",
   "metadata": {
    "id": "TDSveZqff_ta"
   },
   "source": [
    "# Step 20"
   ]
  },
  {
   "cell_type": "code",
   "execution_count": 36,
   "metadata": {
    "colab": {
     "base_uri": "https://localhost:8080/"
    },
    "id": "p9La6OdtgCe_",
    "outputId": "e5dee912-dc1e-43bb-e1d0-b236be3c0465"
   },
   "outputs": [
    {
     "name": "stdout",
     "output_type": "stream",
     "text": [
      "variable(7.0)\n",
      "2.0\n",
      "3.0\n"
     ]
    }
   ],
   "source": [
    "a = Variable(np.array(3.0))\n",
    "b = Variable(np.array(2.0))\n",
    "c = Variable(np.array(1.0))\n",
    "\n",
    "# y = add(mul(a, b), c)\n",
    "y = a*b+c\n",
    "y.backward()\n",
    "\n",
    "print(y)\n",
    "print(a.grad)\n",
    "print(b.grad)"
   ]
  },
  {
   "cell_type": "markdown",
   "metadata": {
    "id": "PVeqidCdk_-p"
   },
   "source": [
    "# Step 21"
   ]
  },
  {
   "cell_type": "code",
   "execution_count": 40,
   "metadata": {
    "colab": {
     "base_uri": "https://localhost:8080/"
    },
    "id": "GQsvelT_lBXj",
    "outputId": "7c5a2ad2-ea31-43ed-f554-10388e2138ae"
   },
   "outputs": [
    {
     "name": "stdout",
     "output_type": "stream",
     "text": [
      "variable(5.0)\n"
     ]
    }
   ],
   "source": [
    "x = Variable(np.array(2.0))\n",
    "y = x + np.array(3.0)\n",
    "print(y)"
   ]
  }
 ],
 "metadata": {
  "colab": {
   "collapsed_sections": [
    "mdr-fDw5x4QX",
    "yEz3GdhvzA8D",
    "LDgazvtb3GUg",
    "fqNHgkog3fE3",
    "YGWiWV5v54rO",
    "sEAATBkcD7A5",
    "nkNoaGsJG99c",
    "vM2Fus7oehHH",
    "TDSveZqff_ta"
   ],
   "name": "Step 11 ~ 22.ipynb",
   "provenance": []
  },
  "kernelspec": {
   "display_name": "Python 3",
   "language": "python",
   "name": "python3"
  },
  "language_info": {
   "codemirror_mode": {
    "name": "ipython",
    "version": 3
   },
   "file_extension": ".py",
   "mimetype": "text/x-python",
   "name": "python",
   "nbconvert_exporter": "python",
   "pygments_lexer": "ipython3",
   "version": "3.7.6"
  }
 },
 "nbformat": 4,
 "nbformat_minor": 1
}
