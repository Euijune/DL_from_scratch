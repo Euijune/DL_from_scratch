{
  "nbformat": 4,
  "nbformat_minor": 0,
  "metadata": {
    "colab": {
      "name": "Step 23 ~ 24.ipynb",
      "provenance": [],
      "collapsed_sections": []
    },
    "kernelspec": {
      "name": "python3",
      "display_name": "Python 3"
    },
    "language_info": {
      "name": "python"
    }
  },
  "cells": [
    {
      "cell_type": "markdown",
      "source": [
        "# Step 23"
      ],
      "metadata": {
        "id": "wCdnjAtsAcNS"
      }
    },
    {
      "cell_type": "code",
      "source": [
        "%cd /content/drive/Shareddrives/Data/밑바닥부터 시작하는 딥러닝"
      ],
      "metadata": {
        "colab": {
          "base_uri": "https://localhost:8080/"
        },
        "id": "FzcAdI8ODozP",
        "outputId": "bf4d4cfc-1d33-454a-a715-5f6cf7b51dec"
      },
      "execution_count": null,
      "outputs": [
        {
          "output_type": "stream",
          "name": "stdout",
          "text": [
            "/content/drive/Shareddrives/Data/밑바닥부터 시작하는 딥러닝\n"
          ]
        }
      ]
    },
    {
      "cell_type": "code",
      "execution_count": 4,
      "metadata": {
        "colab": {
          "base_uri": "https://localhost:8080/"
        },
        "id": "jpo9TtuJAZs_",
        "outputId": "f933520b-e92a-40ab-8543-1aaf740b9f57"
      },
      "outputs": [
        {
          "output_type": "stream",
          "name": "stdout",
          "text": [
            "variable(16.0)\n",
            "8.0\n"
          ]
        }
      ],
      "source": [
        "if '__file__' in globals():\n",
        "    import os, sys\n",
        "    sys.path.append(os.path.join(os.path.dirname(__file__), '..'))\n",
        "\n",
        "import numpy as np\n",
        "#from dezero.core_simple import Variable\n",
        "from dezero import Variable\n",
        "\n",
        "x = Variable(np.array(1.0))\n",
        "y = (x+3) ** 2\n",
        "y.backward()\n",
        "\n",
        "print(y)\n",
        "print(x.grad)"
      ]
    },
    {
      "cell_type": "markdown",
      "source": [
        "# Step 24"
      ],
      "metadata": {
        "id": "0GkhjtLZgMOY"
      }
    },
    {
      "cell_type": "code",
      "source": [
        "import numpy as np\n",
        "from dezero import Variable as V\n",
        "\n",
        "def f(name, x, y):\n",
        "    if name == 'sphere':\n",
        "        z = x ** 2 + y ** 2\n",
        "\n",
        "    if name == 'matyas':\n",
        "        z = 0.26 * (x ** 2 + y ** 2) - 0.48 * x * y\n",
        "\n",
        "    if name == 'goldstein':\n",
        "        z = (1 + (x + y + 1)**2 * (19 - 14*x + 3*x**2 - 14*y + 6*x*y + 3*y**2)) * \\\n",
        "            (30 + (2*x - 3*y)**2 * (18 - 32*x +12*x**2 + 48*y - 36*x*y + 27*y**2))\n",
        "\n",
        "    return z"
      ],
      "metadata": {
        "id": "AY4CJFrqgIpK"
      },
      "execution_count": 14,
      "outputs": []
    },
    {
      "cell_type": "code",
      "source": [
        "x = V(np.array(1.0))\n",
        "y = V(np.array(1.0))\n",
        "z = f('sphere', x, y)\n",
        "z.backward()\n",
        "print(x.grad, y.grad)"
      ],
      "metadata": {
        "colab": {
          "base_uri": "https://localhost:8080/"
        },
        "id": "u_TJKXWNhBKh",
        "outputId": "4e10ea21-35c0-4370-b7f1-1cef2343bebf"
      },
      "execution_count": 12,
      "outputs": [
        {
          "output_type": "stream",
          "name": "stdout",
          "text": [
            "2.0 2.0\n"
          ]
        }
      ]
    },
    {
      "cell_type": "code",
      "source": [
        "x = V(np.array(1.0))\n",
        "y = V(np.array(1.0))\n",
        "z = f('matyas', x, y)\n",
        "z.backward()\n",
        "print(x.grad, y.grad)"
      ],
      "metadata": {
        "colab": {
          "base_uri": "https://localhost:8080/"
        },
        "id": "rXeoqv5HhRgR",
        "outputId": "03526289-6369-4f09-ffbe-0705c806a1b5"
      },
      "execution_count": 13,
      "outputs": [
        {
          "output_type": "stream",
          "name": "stdout",
          "text": [
            "0.040000000000000036 0.040000000000000036\n"
          ]
        }
      ]
    },
    {
      "cell_type": "code",
      "source": [
        "x = V(np.array(1.0))\n",
        "y = V(np.array(1.0))\n",
        "z = f('goldstein', x, y)\n",
        "z.backward()\n",
        "print(x.grad, y.grad)"
      ],
      "metadata": {
        "colab": {
          "base_uri": "https://localhost:8080/"
        },
        "id": "oQAn_Fo9iETI",
        "outputId": "65b64fdb-4c96-492e-bc12-927fe0a21682"
      },
      "execution_count": 15,
      "outputs": [
        {
          "output_type": "stream",
          "name": "stdout",
          "text": [
            "-5376.0 8064.0\n"
          ]
        }
      ]
    }
  ]
}